{
 "cells": [
  {
   "cell_type": "code",
   "execution_count": 16,
   "metadata": {
    "pycharm": {
     "is_executing": true
    }
   },
   "outputs": [],
   "source": [
    "import numpy as np\n",
    "import pandas as pd\n",
    "import matplotlib.pyplot as plt\n",
    "import os\n",
    "import glob\n",
    "import nltk\n",
    "import re\n",
    "import csv"
   ]
  },
  {
   "cell_type": "code",
   "execution_count": 17,
   "metadata": {
    "pycharm": {
     "is_executing": true
    }
   },
   "outputs": [],
   "source": [
    "# global variables\n",
    "liveticker_folderpath = r'../data/livetickers_2020to25_2021'\n",
    "coronoacovid_postings_path = r'../data/coronacovid_postings_year20'\n",
    "selected_months = [r'07_20', r'08_20', r'09_20']\n",
    "liwc_anger_path = r'../data/liwc_german_2007_anger'\n",
    "\n",
    "output_df = r'../data/preprocessing/combined_postings.pickle'\n",
    "output_text_file = r'../data/preprocessing/text'\n",
    "output_text_pid_file = r'../data/preprocessing/text_pid'"
   ]
  },
  {
   "cell_type": "markdown",
   "metadata": {},
   "source": [
    "Read Livetickers:"
   ]
  },
  {
   "cell_type": "code",
   "execution_count": null,
   "metadata": {
    "pycharm": {
     "is_executing": true
    }
   },
   "outputs": [],
   "source": [
    "all_files = glob.glob(os.path.join(liveticker_folderpath, '*'))\n",
    "# remove empty files\n",
    "all_files = list(filter(lambda f: os.stat(f).st_size > 0, all_files))\n",
    "# filter for postings files\n",
    "all_files_postings = list(filter(lambda k: 'postings' in k, all_files))\n",
    "#df = pd.concat((pd.read_table(f, error_bad_lines=False, warn_bad_lines=False, engine='python') for f in all_files_postings))\n",
    "colNames = [\"oid\",\"rid\",\"pid\",\"ppid\",\"cd\",\"cn\",\"o\",\"vp\",\"vn\",\"hl\",\"tx\"]\n",
    "df = pd.concat((pd.read_csv(filename, sep='\\t', names=colNames, skiprows=1, quoting=csv.QUOTE_NONE, encoding='utf-8') for filename in all_files_postings))\n",
    "#low_memory=False\n",
    "\n",
    "#for filename in all_files_postings: \n",
    "#    print(filename)\n",
    "#    df = pd.read_csv(filename, sep='\\t', names=colNames, quoting=csv.QUOTE_NONE, encoding='utf-8')\n",
    "#    print(df.columns)"
   ]
  },
  {
   "cell_type": "code",
   "execution_count": null,
   "metadata": {
    "pycharm": {
     "is_executing": true
    },
    "scrolled": true
   },
   "outputs": [],
   "source": [
    "df.columns"
   ]
  },
  {
   "cell_type": "code",
   "execution_count": null,
   "metadata": {
    "pycharm": {
     "is_executing": true
    }
   },
   "outputs": [],
   "source": [
    "df['pid'].isna().values.any()"
   ]
  },
  {
   "cell_type": "code",
   "execution_count": null,
   "metadata": {
    "pycharm": {
     "is_executing": true
    }
   },
   "outputs": [],
   "source": [
    "df['allText'] = df['hl'].fillna('') + df['tx'].fillna('')\n",
    "df['allText'].isna().values.any()"
   ]
  },
  {
   "cell_type": "code",
   "execution_count": null,
   "metadata": {
    "pycharm": {
     "is_executing": true
    }
   },
   "outputs": [],
   "source": [
    "len(df['allText'])"
   ]
  },
  {
   "cell_type": "code",
   "execution_count": null,
   "metadata": {
    "pycharm": {
     "is_executing": true
    }
   },
   "outputs": [],
   "source": [
    "len(df['pid'])"
   ]
  },
  {
   "cell_type": "code",
   "execution_count": null,
   "metadata": {
    "pycharm": {
     "is_executing": true
    }
   },
   "outputs": [],
   "source": [
    "len(df['allText']) == len(df['pid'])"
   ]
  },
  {
   "cell_type": "code",
   "execution_count": null,
   "metadata": {
    "pycharm": {
     "is_executing": true
    }
   },
   "outputs": [],
   "source": [
    "df.to_pickle(output_df)"
   ]
  },
  {
   "cell_type": "code",
   "execution_count": null,
   "metadata": {
    "pycharm": {
     "is_executing": true
    }
   },
   "outputs": [],
   "source": [
    "df['allText'].to_csv(output_text_file, header=False, index=False)"
   ]
  },
  {
   "cell_type": "code",
   "execution_count": null,
   "metadata": {
    "pycharm": {
     "is_executing": true
    }
   },
   "outputs": [],
   "source": [
    "df['pid'].to_csv(output_text_pid_file, header=False, index=False)"
   ]
  },
  {
   "cell_type": "code",
   "execution_count": null,
   "metadata": {
    "pycharm": {
     "is_executing": true
    }
   },
   "outputs": [],
   "source": [
    "df.info()"
   ]
  },
  {
   "cell_type": "code",
   "execution_count": null,
   "metadata": {
    "pycharm": {
     "is_executing": true
    }
   },
   "outputs": [],
   "source": [
    "df.head()"
   ]
  },
  {
   "cell_type": "code",
   "execution_count": 30,
   "metadata": {
    "pycharm": {
     "is_executing": true
    }
   },
   "outputs": [
    {
     "data": {
      "text/html": [
       "<div>\n",
       "<style scoped>\n",
       "    .dataframe tbody tr th:only-of-type {\n",
       "        vertical-align: middle;\n",
       "    }\n",
       "\n",
       "    .dataframe tbody tr th {\n",
       "        vertical-align: top;\n",
       "    }\n",
       "\n",
       "    .dataframe thead th {\n",
       "        text-align: right;\n",
       "    }\n",
       "</style>\n",
       "<table border=\"1\" class=\"dataframe\">\n",
       "  <thead>\n",
       "    <tr style=\"text-align: right;\">\n",
       "      <th></th>\n",
       "      <th>title</th>\n",
       "      <th>text</th>\n",
       "    </tr>\n",
       "  </thead>\n",
       "  <tbody>\n",
       "    <tr>\n",
       "      <th>0</th>\n",
       "      <td>NaN</td>\n",
       "      <td>Wer es nicht schafft, seine zusätzl. Einnahmeq...</td>\n",
       "    </tr>\n",
       "    <tr>\n",
       "      <th>1</th>\n",
       "      <td>Einfach nur ärgerlich !</td>\n",
       "      <td>Da haben sich Leute die super risikolose Anlag...</td>\n",
       "    </tr>\n",
       "    <tr>\n",
       "      <th>2</th>\n",
       "      <td>Habe im Umfeld</td>\n",
       "      <td>allen v. VorSorge Whg. abgeraten, wer kann 20-...</td>\n",
       "    </tr>\n",
       "    <tr>\n",
       "      <th>3</th>\n",
       "      <td>NaN</td>\n",
       "      <td>Null Mitleid. Wer einen Kredit aufnimmt um spä...</td>\n",
       "    </tr>\n",
       "    <tr>\n",
       "      <th>4</th>\n",
       "      <td>NaN</td>\n",
       "      <td>Gestörtes Verhältnis zur privaten Altersvorsorge.</td>\n",
       "    </tr>\n",
       "  </tbody>\n",
       "</table>\n",
       "</div>"
      ],
      "text/plain": [
       "                     title                                               text\n",
       "0                      NaN  Wer es nicht schafft, seine zusätzl. Einnahmeq...\n",
       "1  Einfach nur ärgerlich !  Da haben sich Leute die super risikolose Anlag...\n",
       "2           Habe im Umfeld  allen v. VorSorge Whg. abgeraten, wer kann 20-...\n",
       "3                      NaN  Null Mitleid. Wer einen Kredit aufnimmt um spä...\n",
       "4                      NaN  Gestörtes Verhältnis zur privaten Altersvorsorge."
      ]
     },
     "execution_count": 30,
     "metadata": {},
     "output_type": "execute_result"
    }
   ],
   "source": [
    "all_text_files = []\n",
    "for month in selected_months:\n",
    "    all_text_files.extend(glob.glob(os.path.join(os.path.join(coronoacovid_postings_path, month), '*_text')))\n",
    "\n",
    "df_postings_year20 = pd.concat((pd.read_csv(filename, sep='\\t', names=['title', 'text'], skiprows=1, quoting=csv.QUOTE_NONE, encoding='utf-8') for filename in all_text_files))\n",
    "df_postings_year20.head()"
   ]
  },
  {
   "cell_type": "code",
   "execution_count": 38,
   "metadata": {
    "pycharm": {
     "is_executing": true
    }
   },
   "outputs": [],
   "source": [
    "df_postings_year20['allText'] = df_postings_year20['title'].fillna('') + df_postings_year20['text'].fillna('')\n",
    "df_postings_year20['allText'].to_csv(r'../data/preprocessing/text_year20', header=False, index=False)"
   ]
  },
  {
   "cell_type": "code",
   "execution_count": 35,
   "metadata": {},
   "outputs": [
    {
     "data": {
      "text/html": [
       "<div>\n",
       "<style scoped>\n",
       "    .dataframe tbody tr th:only-of-type {\n",
       "        vertical-align: middle;\n",
       "    }\n",
       "\n",
       "    .dataframe tbody tr th {\n",
       "        vertical-align: top;\n",
       "    }\n",
       "\n",
       "    .dataframe thead th {\n",
       "        text-align: right;\n",
       "    }\n",
       "</style>\n",
       "<table border=\"1\" class=\"dataframe\">\n",
       "  <thead>\n",
       "    <tr style=\"text-align: right;\">\n",
       "      <th></th>\n",
       "      <th>postid</th>\n",
       "      <th>parentid</th>\n",
       "      <th>communityidentityid</th>\n",
       "      <th>communityname</th>\n",
       "      <th>timestamp</th>\n",
       "      <th>followers</th>\n",
       "      <th>ratings_pos</th>\n",
       "      <th>ratings_neg</th>\n",
       "    </tr>\n",
       "  </thead>\n",
       "  <tbody>\n",
       "    <tr>\n",
       "      <th>0</th>\n",
       "      <td>1056125904</td>\n",
       "      <td>NaN</td>\n",
       "      <td>539169.0</td>\n",
       "      <td>Kombucha-Jünger</td>\n",
       "      <td>1593592870</td>\n",
       "      <td>4.0</td>\n",
       "      <td>34</td>\n",
       "      <td>2</td>\n",
       "    </tr>\n",
       "    <tr>\n",
       "      <th>1</th>\n",
       "      <td>1056125857</td>\n",
       "      <td>NaN</td>\n",
       "      <td>205308.0</td>\n",
       "      <td>Peter G</td>\n",
       "      <td>1593592830</td>\n",
       "      <td>4.0</td>\n",
       "      <td>33</td>\n",
       "      <td>1</td>\n",
       "    </tr>\n",
       "    <tr>\n",
       "      <th>2</th>\n",
       "      <td>1056127459</td>\n",
       "      <td>1.056126e+09</td>\n",
       "      <td>124237.0</td>\n",
       "      <td>KammerlExperte</td>\n",
       "      <td>1593594324</td>\n",
       "      <td>7.0</td>\n",
       "      <td>4</td>\n",
       "      <td>0</td>\n",
       "    </tr>\n",
       "    <tr>\n",
       "      <th>3</th>\n",
       "      <td>1056125788</td>\n",
       "      <td>NaN</td>\n",
       "      <td>29311.0</td>\n",
       "      <td>cash cow1</td>\n",
       "      <td>1593592759</td>\n",
       "      <td>4.0</td>\n",
       "      <td>19</td>\n",
       "      <td>8</td>\n",
       "    </tr>\n",
       "    <tr>\n",
       "      <th>4</th>\n",
       "      <td>1056128086</td>\n",
       "      <td>1.056126e+09</td>\n",
       "      <td>589198.0</td>\n",
       "      <td>diestandarte.at</td>\n",
       "      <td>1593594905</td>\n",
       "      <td>8.0</td>\n",
       "      <td>5</td>\n",
       "      <td>6</td>\n",
       "    </tr>\n",
       "  </tbody>\n",
       "</table>\n",
       "</div>"
      ],
      "text/plain": [
       "       postid      parentid  communityidentityid    communityname   timestamp  \\\n",
       "0  1056125904           NaN             539169.0  Kombucha-Jünger  1593592870   \n",
       "1  1056125857           NaN             205308.0          Peter G  1593592830   \n",
       "2  1056127459  1.056126e+09             124237.0   KammerlExperte  1593594324   \n",
       "3  1056125788           NaN              29311.0        cash cow1  1593592759   \n",
       "4  1056128086  1.056126e+09             589198.0  diestandarte.at  1593594905   \n",
       "\n",
       "   followers  ratings_pos  ratings_neg  \n",
       "0        4.0           34            2  \n",
       "1        4.0           33            1  \n",
       "2        7.0            4            0  \n",
       "3        4.0           19            8  \n",
       "4        8.0            5            6  "
      ]
     },
     "execution_count": 35,
     "metadata": {},
     "output_type": "execute_result"
    }
   ],
   "source": [
    "all_metadata_files = []\n",
    "for month in selected_months:\n",
    "    all_metadata_files.extend(glob.glob(os.path.join(os.path.join(coronoacovid_postings_path, month), '*_metadata')))\n",
    "\n",
    "meta_data_colnames = ['postid', 'parentid', 'communityidentityid', 'communityname', 'timestamp', 'followers', 'ratings_pos', 'ratings_neg']\n",
    "df_postings_metadata_year20 = pd.concat((pd.read_csv(filename, sep='\\t', names=meta_data_colnames, skiprows=1, quoting=csv.QUOTE_NONE, encoding='utf-8') for filename in all_metadata_files))\n",
    "df_postings_metadata_year20.head()"
   ]
  },
  {
   "cell_type": "code",
   "execution_count": 37,
   "metadata": {},
   "outputs": [],
   "source": [
    "df_postings_metadata_year20.to_csv(r'../data/preprocessing/metadata_year20', index=False)"
   ]
  },
  {
   "cell_type": "code",
   "execution_count": null,
   "metadata": {},
   "outputs": [],
   "source": []
  }
 ],
 "metadata": {
  "kernelspec": {
   "display_name": "Python 3",
   "language": "python",
   "name": "python3"
  },
  "language_info": {
   "codemirror_mode": {
    "name": "ipython",
    "version": 3
   },
   "file_extension": ".py",
   "mimetype": "text/x-python",
   "name": "python",
   "nbconvert_exporter": "python",
   "pygments_lexer": "ipython3",
   "version": "3.8.6"
  }
 },
 "nbformat": 4,
 "nbformat_minor": 1
}