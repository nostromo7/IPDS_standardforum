{
 "cells": [
  {
   "cell_type": "code",
   "execution_count": 1,
   "metadata": {
    "pycharm": {
     "is_executing": true
    }
   },
   "outputs": [],
   "source": [
    "import numpy as np\n",
    "import pandas as pd\n",
    "import matplotlib.pyplot as plt\n",
    "import os\n",
    "import glob\n",
    "import nltk\n",
    "import re\n",
    "import csv"
   ]
  },
  {
   "cell_type": "code",
   "execution_count": 2,
   "metadata": {},
   "outputs": [],
   "source": [
    "# global variables\n",
    "liveticker_folderpath = r'../data/livetickers_2020to25_2021'\n",
    "liwc_anger_path = r'../data/liwc_german_2007_anger'\n",
    "\n",
    "output_df = r'../data/preprocessing/combined_postings.pickle'\n",
    "output_text_file = r'../data/preprocessing/text'\n",
    "output_text_pid_file = r'../data/preprocessing/text_pid'"
   ]
  },
  {
   "cell_type": "code",
   "execution_count": 3,
   "metadata": {
    "pycharm": {
     "is_executing": true
    }
   },
   "outputs": [],
   "source": [
    "all_files = glob.glob(os.path.join(liveticker_folderpath, '*'))\n",
    "# remove empty files\n",
    "all_files = list(filter(lambda f: os.stat(f).st_size > 0, all_files))\n",
    "# filter for postings files\n",
    "all_files_postings = list(filter(lambda k: 'postings' in k, all_files))\n",
    "#df = pd.concat((pd.read_table(f, error_bad_lines=False, warn_bad_lines=False, engine='python') for f in all_files_postings))\n",
    "colNames = [\"oid\",\"rid\",\"pid\",\"ppid\",\"cd\",\"cn\",\"o\",\"vp\",\"vn\",\"hl\",\"tx\"]\n",
    "df = pd.concat((pd.read_csv(filename, sep='\\t', names=colNames, skiprows=1, quoting=csv.QUOTE_NONE, encoding='utf-8') for filename in all_files_postings))\n",
    "#low_memory=False\n",
    "\n",
    "#for filename in all_files_postings: \n",
    "#    print(filename)\n",
    "#    df = pd.read_csv(filename, sep='\\t', names=colNames, quoting=csv.QUOTE_NONE, encoding='utf-8')\n",
    "#    print(df.columns)"
   ]
  },
  {
   "cell_type": "code",
   "execution_count": 4,
   "metadata": {
    "pycharm": {
     "is_executing": true
    },
    "scrolled": true
   },
   "outputs": [
    {
     "data": {
      "text/plain": [
       "Index(['oid', 'rid', 'pid', 'ppid', 'cd', 'cn', 'o', 'vp', 'vn', 'hl', 'tx'], dtype='object')"
      ]
     },
     "execution_count": 4,
     "metadata": {},
     "output_type": "execute_result"
    }
   ],
   "source": [
    "df.columns"
   ]
  },
  {
   "cell_type": "code",
   "execution_count": 5,
   "metadata": {
    "pycharm": {
     "is_executing": true
    }
   },
   "outputs": [
    {
     "data": {
      "text/plain": [
       "False"
      ]
     },
     "execution_count": 5,
     "metadata": {},
     "output_type": "execute_result"
    }
   ],
   "source": [
    "df['pid'].isna().values.any()"
   ]
  },
  {
   "cell_type": "code",
   "execution_count": 6,
   "metadata": {
    "pycharm": {
     "is_executing": true
    }
   },
   "outputs": [
    {
     "data": {
      "text/plain": [
       "False"
      ]
     },
     "execution_count": 6,
     "metadata": {},
     "output_type": "execute_result"
    }
   ],
   "source": [
    "df['allText'] = df['hl'].fillna('') + df['tx'].fillna('')\n",
    "df['allText'].isna().values.any()"
   ]
  },
  {
   "cell_type": "code",
   "execution_count": 10,
   "metadata": {
    "pycharm": {
     "is_executing": true
    }
   },
   "outputs": [
    {
     "data": {
      "text/plain": [
       "9214323"
      ]
     },
     "execution_count": 10,
     "metadata": {},
     "output_type": "execute_result"
    }
   ],
   "source": [
    "len(df['allText'])"
   ]
  },
  {
   "cell_type": "code",
   "execution_count": 11,
   "metadata": {},
   "outputs": [
    {
     "data": {
      "text/plain": [
       "9214323"
      ]
     },
     "execution_count": 11,
     "metadata": {},
     "output_type": "execute_result"
    }
   ],
   "source": [
    "len(df['pid'])"
   ]
  },
  {
   "cell_type": "code",
   "execution_count": 12,
   "metadata": {},
   "outputs": [
    {
     "data": {
      "text/plain": [
       "True"
      ]
     },
     "execution_count": 12,
     "metadata": {},
     "output_type": "execute_result"
    }
   ],
   "source": [
    "len(df['allText']) == len(df['pid'])"
   ]
  },
  {
   "cell_type": "code",
   "execution_count": 13,
   "metadata": {},
   "outputs": [],
   "source": [
    "df.to_pickle(output_df)"
   ]
  },
  {
   "cell_type": "code",
   "execution_count": 14,
   "metadata": {
    "pycharm": {
     "is_executing": true
    }
   },
   "outputs": [],
   "source": [
    "df['allText'].to_csv(output_text_file, header=False, index=False)"
   ]
  },
  {
   "cell_type": "code",
   "execution_count": 15,
   "metadata": {
    "pycharm": {
     "is_executing": true
    }
   },
   "outputs": [],
   "source": [
    "df['pid'].to_csv(output_text_pid_file, header=False, index=False)"
   ]
  },
  {
   "cell_type": "code",
   "execution_count": 16,
   "metadata": {
    "pycharm": {
     "is_executing": true
    }
   },
   "outputs": [
    {
     "name": "stdout",
     "output_type": "stream",
     "text": [
      "<class 'pandas.core.frame.DataFrame'>\n",
      "Int64Index: 9214323 entries, 0 to 37425\n",
      "Data columns (total 12 columns):\n",
      " #   Column   Dtype  \n",
      "---  ------   -----  \n",
      " 0   oid      int64  \n",
      " 1   rid      int64  \n",
      " 2   pid      int64  \n",
      " 3   ppid     float64\n",
      " 4   cd       object \n",
      " 5   cn       object \n",
      " 6   o        object \n",
      " 7   vp       int64  \n",
      " 8   vn       int64  \n",
      " 9   hl       object \n",
      " 10  tx       object \n",
      " 11  allText  object \n",
      "dtypes: float64(1), int64(5), object(6)\n",
      "memory usage: 913.9+ MB\n"
     ]
    }
   ],
   "source": [
    "df.info()"
   ]
  },
  {
   "cell_type": "code",
   "execution_count": 17,
   "metadata": {},
   "outputs": [
    {
     "data": {
      "text/html": [
       "<div>\n",
       "<style scoped>\n",
       "    .dataframe tbody tr th:only-of-type {\n",
       "        vertical-align: middle;\n",
       "    }\n",
       "\n",
       "    .dataframe tbody tr th {\n",
       "        vertical-align: top;\n",
       "    }\n",
       "\n",
       "    .dataframe thead th {\n",
       "        text-align: right;\n",
       "    }\n",
       "</style>\n",
       "<table border=\"1\" class=\"dataframe\">\n",
       "  <thead>\n",
       "    <tr style=\"text-align: right;\">\n",
       "      <th></th>\n",
       "      <th>oid</th>\n",
       "      <th>rid</th>\n",
       "      <th>pid</th>\n",
       "      <th>ppid</th>\n",
       "      <th>cd</th>\n",
       "      <th>cn</th>\n",
       "      <th>o</th>\n",
       "      <th>vp</th>\n",
       "      <th>vn</th>\n",
       "      <th>hl</th>\n",
       "      <th>tx</th>\n",
       "      <th>allText</th>\n",
       "    </tr>\n",
       "  </thead>\n",
       "  <tbody>\n",
       "    <tr>\n",
       "      <th>0</th>\n",
       "      <td>2000122865130</td>\n",
       "      <td>1000213648</td>\n",
       "      <td>1064710786</td>\n",
       "      <td>NaN</td>\n",
       "      <td>2020-12-31T20:04:57.643+01:00</td>\n",
       "      <td>unmo</td>\n",
       "      <td>NaN</td>\n",
       "      <td>4</td>\n",
       "      <td>0</td>\n",
       "      <td>Herr Bundespräsident</td>\n",
       "      <td>nach Artikel 70 B-VG können Sie den Bundeskanz...</td>\n",
       "      <td>Herr Bundespräsidentnach Artikel 70 B-VG könne...</td>\n",
       "    </tr>\n",
       "    <tr>\n",
       "      <th>1</th>\n",
       "      <td>2000122865130</td>\n",
       "      <td>1000213648</td>\n",
       "      <td>1064724063</td>\n",
       "      <td>1.064711e+09</td>\n",
       "      <td>2021-01-01T06:00:14.35+01:00</td>\n",
       "      <td>Art10 EMRK</td>\n",
       "      <td>NaN</td>\n",
       "      <td>2</td>\n",
       "      <td>0</td>\n",
       "      <td>NaN</td>\n",
       "      <td>Der Flash wird noch eine weitere Amtszeit dafü...</td>\n",
       "      <td>Der Flash wird noch eine weitere Amtszeit dafü...</td>\n",
       "    </tr>\n",
       "    <tr>\n",
       "      <th>2</th>\n",
       "      <td>2000122865130</td>\n",
       "      <td>1000213648</td>\n",
       "      <td>1064712838</td>\n",
       "      <td>1.064711e+09</td>\n",
       "      <td>2020-12-31T20:57:02.017+01:00</td>\n",
       "      <td>it's my life</td>\n",
       "      <td>NaN</td>\n",
       "      <td>2</td>\n",
       "      <td>0</td>\n",
       "      <td>NaN</td>\n",
       "      <td>Das ist wahrscheinlich sogar unserem HBP zu pe...</td>\n",
       "      <td>Das ist wahrscheinlich sogar unserem HBP zu pe...</td>\n",
       "    </tr>\n",
       "    <tr>\n",
       "      <th>3</th>\n",
       "      <td>2000122865130</td>\n",
       "      <td>1000213648</td>\n",
       "      <td>1064708391</td>\n",
       "      <td>NaN</td>\n",
       "      <td>2020-12-31T19:09:04.76+01:00</td>\n",
       "      <td>it's my life</td>\n",
       "      <td>NaN</td>\n",
       "      <td>3</td>\n",
       "      <td>0</td>\n",
       "      <td>NaN</td>\n",
       "      <td>Ausnahmegesetze für unseren Ausnahmenkanzler ...</td>\n",
       "      <td>Ausnahmegesetze für unseren Ausnahmenkanzler ...</td>\n",
       "    </tr>\n",
       "    <tr>\n",
       "      <th>4</th>\n",
       "      <td>2000122865130</td>\n",
       "      <td>1000213648</td>\n",
       "      <td>1064707195</td>\n",
       "      <td>NaN</td>\n",
       "      <td>2020-12-31T18:43:57.973+01:00</td>\n",
       "      <td>sumac trebla</td>\n",
       "      <td>NaN</td>\n",
       "      <td>3</td>\n",
       "      <td>0</td>\n",
       "      <td>Anschober will...</td>\n",
       "      <td>Anschober kann aber nicht.</td>\n",
       "      <td>Anschober will...Anschober kann aber nicht.</td>\n",
       "    </tr>\n",
       "  </tbody>\n",
       "</table>\n",
       "</div>"
      ],
      "text/plain": [
       "             oid         rid         pid          ppid  \\\n",
       "0  2000122865130  1000213648  1064710786           NaN   \n",
       "1  2000122865130  1000213648  1064724063  1.064711e+09   \n",
       "2  2000122865130  1000213648  1064712838  1.064711e+09   \n",
       "3  2000122865130  1000213648  1064708391           NaN   \n",
       "4  2000122865130  1000213648  1064707195           NaN   \n",
       "\n",
       "                              cd            cn    o  vp  vn  \\\n",
       "0  2020-12-31T20:04:57.643+01:00          unmo  NaN   4   0   \n",
       "1   2021-01-01T06:00:14.35+01:00    Art10 EMRK  NaN   2   0   \n",
       "2  2020-12-31T20:57:02.017+01:00  it's my life  NaN   2   0   \n",
       "3   2020-12-31T19:09:04.76+01:00  it's my life  NaN   3   0   \n",
       "4  2020-12-31T18:43:57.973+01:00  sumac trebla  NaN   3   0   \n",
       "\n",
       "                     hl                                                 tx  \\\n",
       "0  Herr Bundespräsident  nach Artikel 70 B-VG können Sie den Bundeskanz...   \n",
       "1                   NaN  Der Flash wird noch eine weitere Amtszeit dafü...   \n",
       "2                   NaN  Das ist wahrscheinlich sogar unserem HBP zu pe...   \n",
       "3                   NaN   Ausnahmegesetze für unseren Ausnahmenkanzler ...   \n",
       "4     Anschober will...                         Anschober kann aber nicht.   \n",
       "\n",
       "                                             allText  \n",
       "0  Herr Bundespräsidentnach Artikel 70 B-VG könne...  \n",
       "1  Der Flash wird noch eine weitere Amtszeit dafü...  \n",
       "2  Das ist wahrscheinlich sogar unserem HBP zu pe...  \n",
       "3   Ausnahmegesetze für unseren Ausnahmenkanzler ...  \n",
       "4        Anschober will...Anschober kann aber nicht.  "
      ]
     },
     "execution_count": 17,
     "metadata": {},
     "output_type": "execute_result"
    }
   ],
   "source": [
    "df.head()"
   ]
  },
  {
   "cell_type": "code",
   "execution_count": null,
   "metadata": {},
   "outputs": [],
   "source": []
  },
  {
   "cell_type": "code",
   "execution_count": null,
   "metadata": {},
   "outputs": [],
   "source": []
  },
  {
   "cell_type": "code",
   "execution_count": null,
   "metadata": {},
   "outputs": [],
   "source": []
  }
 ],
 "metadata": {
  "kernelspec": {
   "display_name": "Python 3",
   "language": "python",
   "name": "python3"
  },
  "language_info": {
   "codemirror_mode": {
    "name": "ipython",
    "version": 3
   },
   "file_extension": ".py",
   "mimetype": "text/x-python",
   "name": "python",
   "nbconvert_exporter": "python",
   "pygments_lexer": "ipython3",
   "version": "3.8.6"
  }
 },
 "nbformat": 4,
 "nbformat_minor": 1
}