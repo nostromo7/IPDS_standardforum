{
 "cells": [
  {
   "cell_type": "code",
   "execution_count": 1,
   "metadata": {},
   "outputs": [],
   "source": [
    "import numpy as np\n",
    "import pandas as pd\n",
    "import matplotlib.pyplot as plt\n",
    "import os"
   ]
  },
  {
   "cell_type": "markdown",
   "metadata": {},
   "source": [
    "### Global Variables"
   ]
  },
  {
   "cell_type": "code",
   "execution_count": 2,
   "metadata": {},
   "outputs": [],
   "source": [
    "start, end = '2020-03-06', '2021-01-27' #postings df\n",
    "start_lockdown1, start_lockdown2, start_lockdown3 = '2020-03-16', '2020-11-17', '2020-12-26'\n",
    "end_lockdown1, end_lockdown2, end_lockdown3 = '2020-04-20', '2020-12-06', '2021-02-07'\n",
    "input_postings = r'../data/preprocessing/combined_postings_final.pickle'\n",
    "input_survey = r'../data/survey_data_covid_variables.csv'"
   ]
  },
  {
   "cell_type": "markdown",
   "metadata": {},
   "source": [
    "### Load datasets"
   ]
  },
  {
   "cell_type": "markdown",
   "metadata": {},
   "source": [
    "Load and analyize survey dataset:"
   ]
  },
  {
   "cell_type": "code",
   "execution_count": 3,
   "metadata": {},
   "outputs": [
    {
     "name": "stderr",
     "output_type": "stream",
     "text": [
      "e:\\users\\moritz\\dokumente\\uni\\ipds_standardforum\\venv\\lib\\site-packages\\IPython\\core\\interactiveshell.py:3165: DtypeWarning: Columns (27,30) have mixed types.Specify dtype option on import or set low_memory=False.\n",
      "  has_raised = await self.run_ast_nodes(code_ast.body, cell_name,\n"
     ]
    }
   ],
   "source": [
    "survey = pd.read_csv(input_survey)"
   ]
  },
  {
   "cell_type": "code",
   "execution_count": 4,
   "metadata": {},
   "outputs": [
    {
     "data": {
      "text/html": [
       "<div>\n",
       "<style scoped>\n",
       "    .dataframe tbody tr th:only-of-type {\n",
       "        vertical-align: middle;\n",
       "    }\n",
       "\n",
       "    .dataframe tbody tr th {\n",
       "        vertical-align: top;\n",
       "    }\n",
       "\n",
       "    .dataframe thead th {\n",
       "        text-align: right;\n",
       "    }\n",
       "</style>\n",
       "<table border=\"1\" class=\"dataframe\">\n",
       "  <thead>\n",
       "    <tr style=\"text-align: right;\">\n",
       "      <th></th>\n",
       "      <th>welle</th>\n",
       "      <th>co01</th>\n",
       "      <th>co02</th>\n",
       "      <th>co02_09</th>\n",
       "      <th>co02_01</th>\n",
       "      <th>co02_02</th>\n",
       "      <th>co02_03</th>\n",
       "      <th>co02_04</th>\n",
       "      <th>co02_05</th>\n",
       "      <th>co02_06</th>\n",
       "      <th>...</th>\n",
       "      <th>co21_04</th>\n",
       "      <th>co21_05</th>\n",
       "      <th>co21_06</th>\n",
       "      <th>co21_07</th>\n",
       "      <th>co21_08</th>\n",
       "      <th>co21_09</th>\n",
       "      <th>co21_10</th>\n",
       "      <th>co21_11</th>\n",
       "      <th>co22</th>\n",
       "      <th>co23</th>\n",
       "    </tr>\n",
       "  </thead>\n",
       "  <tbody>\n",
       "    <tr>\n",
       "      <th>0</th>\n",
       "      <td>1</td>\n",
       "      <td>4</td>\n",
       "      <td>1</td>\n",
       "      <td>1</td>\n",
       "      <td>1</td>\n",
       "      <td>1</td>\n",
       "      <td>1</td>\n",
       "      <td>1</td>\n",
       "      <td>1</td>\n",
       "      <td>1</td>\n",
       "      <td>...</td>\n",
       "      <td>NaN</td>\n",
       "      <td>NaN</td>\n",
       "      <td>NaN</td>\n",
       "      <td>NaN</td>\n",
       "      <td>NaN</td>\n",
       "      <td>NaN</td>\n",
       "      <td>NaN</td>\n",
       "      <td>NaN</td>\n",
       "      <td>NaN</td>\n",
       "      <td>NaN</td>\n",
       "    </tr>\n",
       "    <tr>\n",
       "      <th>1</th>\n",
       "      <td>1</td>\n",
       "      <td>4</td>\n",
       "      <td>1</td>\n",
       "      <td>1</td>\n",
       "      <td>1</td>\n",
       "      <td>1</td>\n",
       "      <td>1</td>\n",
       "      <td>1</td>\n",
       "      <td>1</td>\n",
       "      <td>1</td>\n",
       "      <td>...</td>\n",
       "      <td>NaN</td>\n",
       "      <td>NaN</td>\n",
       "      <td>NaN</td>\n",
       "      <td>NaN</td>\n",
       "      <td>NaN</td>\n",
       "      <td>NaN</td>\n",
       "      <td>NaN</td>\n",
       "      <td>NaN</td>\n",
       "      <td>NaN</td>\n",
       "      <td>NaN</td>\n",
       "    </tr>\n",
       "    <tr>\n",
       "      <th>2</th>\n",
       "      <td>1</td>\n",
       "      <td>3</td>\n",
       "      <td>1</td>\n",
       "      <td>1</td>\n",
       "      <td>1</td>\n",
       "      <td>1</td>\n",
       "      <td>1</td>\n",
       "      <td>1</td>\n",
       "      <td>1</td>\n",
       "      <td>1</td>\n",
       "      <td>...</td>\n",
       "      <td>NaN</td>\n",
       "      <td>NaN</td>\n",
       "      <td>NaN</td>\n",
       "      <td>NaN</td>\n",
       "      <td>NaN</td>\n",
       "      <td>NaN</td>\n",
       "      <td>NaN</td>\n",
       "      <td>NaN</td>\n",
       "      <td>NaN</td>\n",
       "      <td>NaN</td>\n",
       "    </tr>\n",
       "    <tr>\n",
       "      <th>3</th>\n",
       "      <td>1</td>\n",
       "      <td>3</td>\n",
       "      <td>1</td>\n",
       "      <td>1</td>\n",
       "      <td>1</td>\n",
       "      <td>1</td>\n",
       "      <td>2</td>\n",
       "      <td>1</td>\n",
       "      <td>1</td>\n",
       "      <td>1</td>\n",
       "      <td>...</td>\n",
       "      <td>NaN</td>\n",
       "      <td>NaN</td>\n",
       "      <td>NaN</td>\n",
       "      <td>NaN</td>\n",
       "      <td>NaN</td>\n",
       "      <td>NaN</td>\n",
       "      <td>NaN</td>\n",
       "      <td>NaN</td>\n",
       "      <td>NaN</td>\n",
       "      <td>NaN</td>\n",
       "    </tr>\n",
       "    <tr>\n",
       "      <th>4</th>\n",
       "      <td>1</td>\n",
       "      <td>4</td>\n",
       "      <td>1</td>\n",
       "      <td>2</td>\n",
       "      <td>1</td>\n",
       "      <td>1</td>\n",
       "      <td>1</td>\n",
       "      <td>1</td>\n",
       "      <td>1</td>\n",
       "      <td>1</td>\n",
       "      <td>...</td>\n",
       "      <td>NaN</td>\n",
       "      <td>NaN</td>\n",
       "      <td>NaN</td>\n",
       "      <td>NaN</td>\n",
       "      <td>NaN</td>\n",
       "      <td>NaN</td>\n",
       "      <td>NaN</td>\n",
       "      <td>NaN</td>\n",
       "      <td>NaN</td>\n",
       "      <td>NaN</td>\n",
       "    </tr>\n",
       "  </tbody>\n",
       "</table>\n",
       "<p>5 rows × 87 columns</p>\n",
       "</div>"
      ],
      "text/plain": [
       "   welle  co01  co02  co02_09  co02_01  co02_02  co02_03  co02_04  co02_05  \\\n",
       "0      1     4     1        1        1        1        1        1        1   \n",
       "1      1     4     1        1        1        1        1        1        1   \n",
       "2      1     3     1        1        1        1        1        1        1   \n",
       "3      1     3     1        1        1        1        2        1        1   \n",
       "4      1     4     1        2        1        1        1        1        1   \n",
       "\n",
       "   co02_06  ...  co21_04 co21_05  co21_06  co21_07  co21_08  co21_09  co21_10  \\\n",
       "0        1  ...      NaN     NaN      NaN      NaN      NaN      NaN      NaN   \n",
       "1        1  ...      NaN     NaN      NaN      NaN      NaN      NaN      NaN   \n",
       "2        1  ...      NaN     NaN      NaN      NaN      NaN      NaN      NaN   \n",
       "3        1  ...      NaN     NaN      NaN      NaN      NaN      NaN      NaN   \n",
       "4        1  ...      NaN     NaN      NaN      NaN      NaN      NaN      NaN   \n",
       "\n",
       "   co21_11  co22  co23  \n",
       "0      NaN   NaN   NaN  \n",
       "1      NaN   NaN   NaN  \n",
       "2      NaN   NaN   NaN  \n",
       "3      NaN   NaN   NaN  \n",
       "4      NaN   NaN   NaN  \n",
       "\n",
       "[5 rows x 87 columns]"
      ]
     },
     "execution_count": 4,
     "metadata": {},
     "output_type": "execute_result"
    }
   ],
   "source": [
    "survey.head()"
   ]
  },
  {
   "cell_type": "code",
   "execution_count": 5,
   "metadata": {},
   "outputs": [
    {
     "data": {
      "text/plain": [
       "(12029, 0, 0, 0)"
      ]
     },
     "execution_count": 5,
     "metadata": {},
     "output_type": "execute_result"
    }
   ],
   "source": [
    "len(survey['co05_01']), len(survey[survey['co05_01'] == -9]), (survey['co05_01'].isnull().sum()), (survey['co05_01'].isna().sum())"
   ]
  },
  {
   "cell_type": "code",
   "execution_count": 6,
   "metadata": {},
   "outputs": [
    {
     "data": {
      "text/plain": [
       "(12029, 0, 9018, 9018)"
      ]
     },
     "execution_count": 6,
     "metadata": {},
     "output_type": "execute_result"
    }
   ],
   "source": [
    "len(survey['co19_01']), len(survey[survey['co19_01'] == -9]), (survey['co19_01'].isnull().sum()), (survey['co19_01'].isna().sum())"
   ]
  },
  {
   "cell_type": "code",
   "execution_count": 7,
   "metadata": {},
   "outputs": [],
   "source": [
    "survey_sub = survey[['welle', 'co05_01']] # ,'co19_01']]\n",
    "# co05_01: Die derzeit gültigen von der Regierung ergriffenen Maßnahmen zur Eindämmung der Covid-19 Pandemie sollten...\"\n",
    "#    values: 1 - 3 (=mehr maßnahmen)\n",
    "# co19_01: Wie schätzen Sie Ihren Informationsstand rund um die aktuellen Verordnungen/Maßnahmen, die im Rahmen der Covid-..\"\n",
    "#    values: 1 - 5 (=gute kommunikation)"
   ]
  },
  {
   "cell_type": "code",
   "execution_count": 8,
   "metadata": {},
   "outputs": [],
   "source": [
    "wave_map = {\n",
    "    1: pd.to_datetime('5.5.2020'),\n",
    "    2: pd.to_datetime('5.28.2020'),\n",
    "    3: pd.to_datetime('6.17.2020'),\n",
    "    4: pd.to_datetime('7.8.2020'),\n",
    "    5: pd.to_datetime('7.30.2020'),\n",
    "    6: pd.to_datetime('8.22.2020'),\n",
    "    7: pd.to_datetime('9.14.2020'),\n",
    "    8: pd.to_datetime('9.29.2020'),\n",
    "    9: pd.to_datetime('10.21.2020'),\n",
    "    10: pd.to_datetime('11.11.2020'),\n",
    "    11: pd.to_datetime('11.28.2020'),\n",
    "    12: pd.to_datetime('12.22.2020'),\n",
    "}"
   ]
  },
  {
   "cell_type": "code",
   "execution_count": 9,
   "metadata": {},
   "outputs": [
    {
     "name": "stderr",
     "output_type": "stream",
     "text": [
      "<ipython-input-9-82dcc5cc7d1c>:1: SettingWithCopyWarning: \n",
      "A value is trying to be set on a copy of a slice from a DataFrame.\n",
      "Try using .loc[row_indexer,col_indexer] = value instead\n",
      "\n",
      "See the caveats in the documentation: https://pandas.pydata.org/pandas-docs/stable/user_guide/indexing.html#returning-a-view-versus-a-copy\n",
      "  survey_sub['wave_end'] = pd.to_datetime(survey_sub['welle'].map(wave_map))\n"
     ]
    }
   ],
   "source": [
    "survey_sub['wave_end'] = pd.to_datetime(survey_sub['welle'].map(wave_map))"
   ]
  },
  {
   "cell_type": "code",
   "execution_count": 10,
   "metadata": {},
   "outputs": [],
   "source": [
    "survey_sub = survey_sub.set_index('wave_end')\n",
    "#survey_sub = survey_sub.drop(['welle'], axis=1)"
   ]
  },
  {
   "cell_type": "markdown",
   "metadata": {},
   "source": [
    "Load and analyze postings dataset:"
   ]
  },
  {
   "cell_type": "code",
   "execution_count": 11,
   "metadata": {
    "pycharm": {
     "is_executing": true
    }
   },
   "outputs": [],
   "source": [
    "cols_to_drop = ['rid', 'ppid', 'o', 'hl', 'tx', 'cn', '13', '16', '17', '19', '31', '200', 'pid_liwc']\n",
    "postings = pd.read_pickle(input_postings).drop(cols_to_drop, axis=1)"
   ]
  },
  {
   "cell_type": "code",
   "execution_count": 12,
   "metadata": {
    "pycharm": {
     "is_executing": true
    }
   },
   "outputs": [],
   "source": [
    "postings.index = pd.to_datetime(postings.index, utc=True)"
   ]
  },
  {
   "cell_type": "code",
   "execution_count": 13,
   "metadata": {
    "pycharm": {
     "is_executing": true
    }
   },
   "outputs": [],
   "source": [
    "postings['anger'] = postings['18']/postings['number_tokens']"
   ]
  },
  {
   "cell_type": "code",
   "execution_count": 14,
   "metadata": {
    "pycharm": {
     "is_executing": true
    }
   },
   "outputs": [
    {
     "data": {
      "text/html": [
       "<div>\n",
       "<style scoped>\n",
       "    .dataframe tbody tr th:only-of-type {\n",
       "        vertical-align: middle;\n",
       "    }\n",
       "\n",
       "    .dataframe tbody tr th {\n",
       "        vertical-align: top;\n",
       "    }\n",
       "\n",
       "    .dataframe thead th {\n",
       "        text-align: right;\n",
       "    }\n",
       "</style>\n",
       "<table border=\"1\" class=\"dataframe\">\n",
       "  <thead>\n",
       "    <tr style=\"text-align: right;\">\n",
       "      <th></th>\n",
       "      <th>oid</th>\n",
       "      <th>pid</th>\n",
       "      <th>vp</th>\n",
       "      <th>vn</th>\n",
       "      <th>allText</th>\n",
       "      <th>18</th>\n",
       "      <th>number_tokens</th>\n",
       "      <th>anger</th>\n",
       "    </tr>\n",
       "    <tr>\n",
       "      <th>cd</th>\n",
       "      <th></th>\n",
       "      <th></th>\n",
       "      <th></th>\n",
       "      <th></th>\n",
       "      <th></th>\n",
       "      <th></th>\n",
       "      <th></th>\n",
       "      <th></th>\n",
       "    </tr>\n",
       "  </thead>\n",
       "  <tbody>\n",
       "    <tr>\n",
       "      <th>2020-12-31 19:04:57.643000+00:00</th>\n",
       "      <td>2000122865130</td>\n",
       "      <td>1064710786</td>\n",
       "      <td>4</td>\n",
       "      <td>0</td>\n",
       "      <td>Herr Bundespräsidentnach Artikel 70 B-VG könne...</td>\n",
       "      <td>0</td>\n",
       "      <td>28</td>\n",
       "      <td>0.0</td>\n",
       "    </tr>\n",
       "    <tr>\n",
       "      <th>2021-01-01 05:00:14.350000+00:00</th>\n",
       "      <td>2000122865130</td>\n",
       "      <td>1064724063</td>\n",
       "      <td>2</td>\n",
       "      <td>0</td>\n",
       "      <td>Der Flash wird noch eine weitere Amtszeit dafü...</td>\n",
       "      <td>0</td>\n",
       "      <td>9</td>\n",
       "      <td>0.0</td>\n",
       "    </tr>\n",
       "    <tr>\n",
       "      <th>2020-12-31 19:57:02.017000+00:00</th>\n",
       "      <td>2000122865130</td>\n",
       "      <td>1064712838</td>\n",
       "      <td>2</td>\n",
       "      <td>0</td>\n",
       "      <td>Das ist wahrscheinlich sogar unserem HBP zu pe...</td>\n",
       "      <td>0</td>\n",
       "      <td>8</td>\n",
       "      <td>0.0</td>\n",
       "    </tr>\n",
       "    <tr>\n",
       "      <th>2020-12-31 18:09:04.760000+00:00</th>\n",
       "      <td>2000122865130</td>\n",
       "      <td>1064708391</td>\n",
       "      <td>3</td>\n",
       "      <td>0</td>\n",
       "      <td>Ausnahmegesetze für unseren Ausnahmenkanzler ...</td>\n",
       "      <td>0</td>\n",
       "      <td>4</td>\n",
       "      <td>0.0</td>\n",
       "    </tr>\n",
       "    <tr>\n",
       "      <th>2020-12-31 17:43:57.973000+00:00</th>\n",
       "      <td>2000122865130</td>\n",
       "      <td>1064707195</td>\n",
       "      <td>3</td>\n",
       "      <td>0</td>\n",
       "      <td>Anschober will...Anschober kann aber nicht.</td>\n",
       "      <td>0</td>\n",
       "      <td>5</td>\n",
       "      <td>0.0</td>\n",
       "    </tr>\n",
       "  </tbody>\n",
       "</table>\n",
       "</div>"
      ],
      "text/plain": [
       "                                            oid         pid  vp  vn  \\\n",
       "cd                                                                    \n",
       "2020-12-31 19:04:57.643000+00:00  2000122865130  1064710786   4   0   \n",
       "2021-01-01 05:00:14.350000+00:00  2000122865130  1064724063   2   0   \n",
       "2020-12-31 19:57:02.017000+00:00  2000122865130  1064712838   2   0   \n",
       "2020-12-31 18:09:04.760000+00:00  2000122865130  1064708391   3   0   \n",
       "2020-12-31 17:43:57.973000+00:00  2000122865130  1064707195   3   0   \n",
       "\n",
       "                                                                            allText  \\\n",
       "cd                                                                                    \n",
       "2020-12-31 19:04:57.643000+00:00  Herr Bundespräsidentnach Artikel 70 B-VG könne...   \n",
       "2021-01-01 05:00:14.350000+00:00  Der Flash wird noch eine weitere Amtszeit dafü...   \n",
       "2020-12-31 19:57:02.017000+00:00  Das ist wahrscheinlich sogar unserem HBP zu pe...   \n",
       "2020-12-31 18:09:04.760000+00:00   Ausnahmegesetze für unseren Ausnahmenkanzler ...   \n",
       "2020-12-31 17:43:57.973000+00:00        Anschober will...Anschober kann aber nicht.   \n",
       "\n",
       "                                  18  number_tokens  anger  \n",
       "cd                                                          \n",
       "2020-12-31 19:04:57.643000+00:00   0             28    0.0  \n",
       "2021-01-01 05:00:14.350000+00:00   0              9    0.0  \n",
       "2020-12-31 19:57:02.017000+00:00   0              8    0.0  \n",
       "2020-12-31 18:09:04.760000+00:00   0              4    0.0  \n",
       "2020-12-31 17:43:57.973000+00:00   0              5    0.0  "
      ]
     },
     "execution_count": 14,
     "metadata": {},
     "output_type": "execute_result"
    }
   ],
   "source": [
    "postings.head()"
   ]
  },
  {
   "cell_type": "code",
   "execution_count": 15,
   "metadata": {
    "pycharm": {
     "is_executing": true
    },
    "scrolled": true
   },
   "outputs": [
    {
     "data": {
      "text/plain": [
       "<AxesSubplot:>"
      ]
     },
     "execution_count": 15,
     "metadata": {},
     "output_type": "execute_result"
    },
    {
     "data": {
      "image/png": "[encoded data removed]",
      "text/plain": [
       "<Figure size 432x288 with 1 Axes>"
      ]
     },
     "metadata": {
      "needs_background": "light"
     },
     "output_type": "display_data"
    }
   ],
   "source": [
    "postings['anger'].hist()"
   ]
  },
  {
   "cell_type": "code",
   "execution_count": null,
   "metadata": {
    "pycharm": {
     "is_executing": true
    }
   },
   "outputs": [],
   "source": []
  },
  {
   "cell_type": "code",
   "execution_count": null,
   "metadata": {
    "pycharm": {
     "is_executing": true
    }
   },
   "outputs": [],
   "source": []
  },
  {
   "cell_type": "code",
   "execution_count": 16,
   "metadata": {
    "pycharm": {
     "is_executing": true
    }
   },
   "outputs": [
    {
     "data": {
      "text/html": [
       "<div>\n",
       "<style scoped>\n",
       "    .dataframe tbody tr th:only-of-type {\n",
       "        vertical-align: middle;\n",
       "    }\n",
       "\n",
       "    .dataframe tbody tr th {\n",
       "        vertical-align: top;\n",
       "    }\n",
       "\n",
       "    .dataframe thead th {\n",
       "        text-align: right;\n",
       "    }\n",
       "</style>\n",
       "<table border=\"1\" class=\"dataframe\">\n",
       "  <thead>\n",
       "    <tr style=\"text-align: right;\">\n",
       "      <th></th>\n",
       "      <th>welle</th>\n",
       "      <th>co05_01</th>\n",
       "    </tr>\n",
       "    <tr>\n",
       "      <th>wave_end</th>\n",
       "      <th></th>\n",
       "      <th></th>\n",
       "    </tr>\n",
       "  </thead>\n",
       "  <tbody>\n",
       "    <tr>\n",
       "      <th>2020-05-05</th>\n",
       "      <td>1.0</td>\n",
       "      <td>1.639361</td>\n",
       "    </tr>\n",
       "    <tr>\n",
       "      <th>2020-05-28</th>\n",
       "      <td>2.0</td>\n",
       "      <td>1.612935</td>\n",
       "    </tr>\n",
       "    <tr>\n",
       "      <th>2020-06-17</th>\n",
       "      <td>3.0</td>\n",
       "      <td>1.617383</td>\n",
       "    </tr>\n",
       "    <tr>\n",
       "      <th>2020-07-08</th>\n",
       "      <td>4.0</td>\n",
       "      <td>2.043000</td>\n",
       "    </tr>\n",
       "    <tr>\n",
       "      <th>2020-07-30</th>\n",
       "      <td>5.0</td>\n",
       "      <td>2.285000</td>\n",
       "    </tr>\n",
       "    <tr>\n",
       "      <th>2020-08-22</th>\n",
       "      <td>6.0</td>\n",
       "      <td>2.093812</td>\n",
       "    </tr>\n",
       "    <tr>\n",
       "      <th>2020-09-14</th>\n",
       "      <td>7.0</td>\n",
       "      <td>2.126747</td>\n",
       "    </tr>\n",
       "    <tr>\n",
       "      <th>2020-09-29</th>\n",
       "      <td>8.0</td>\n",
       "      <td>2.158000</td>\n",
       "    </tr>\n",
       "    <tr>\n",
       "      <th>2020-10-21</th>\n",
       "      <td>9.0</td>\n",
       "      <td>2.120159</td>\n",
       "    </tr>\n",
       "    <tr>\n",
       "      <th>2020-11-11</th>\n",
       "      <td>10.0</td>\n",
       "      <td>2.188060</td>\n",
       "    </tr>\n",
       "    <tr>\n",
       "      <th>2020-11-28</th>\n",
       "      <td>11.0</td>\n",
       "      <td>2.011952</td>\n",
       "    </tr>\n",
       "    <tr>\n",
       "      <th>2020-12-22</th>\n",
       "      <td>12.0</td>\n",
       "      <td>2.133733</td>\n",
       "    </tr>\n",
       "  </tbody>\n",
       "</table>\n",
       "</div>"
      ],
      "text/plain": [
       "            welle   co05_01\n",
       "wave_end                   \n",
       "2020-05-05    1.0  1.639361\n",
       "2020-05-28    2.0  1.612935\n",
       "2020-06-17    3.0  1.617383\n",
       "2020-07-08    4.0  2.043000\n",
       "2020-07-30    5.0  2.285000\n",
       "2020-08-22    6.0  2.093812\n",
       "2020-09-14    7.0  2.126747\n",
       "2020-09-29    8.0  2.158000\n",
       "2020-10-21    9.0  2.120159\n",
       "2020-11-11   10.0  2.188060\n",
       "2020-11-28   11.0  2.011952\n",
       "2020-12-22   12.0  2.133733"
      ]
     },
     "execution_count": 16,
     "metadata": {},
     "output_type": "execute_result"
    }
   ],
   "source": [
    "survey_grouped = survey_sub.groupby('welle').resample('1d').mean()\n",
    "survey_grouped.index = survey_grouped.index.droplevel('welle')\n",
    "survey_grouped"
   ]
  },
  {
   "cell_type": "code",
   "execution_count": 17,
   "metadata": {
    "pycharm": {
     "is_executing": true
    }
   },
   "outputs": [
    {
     "data": {
      "text/plain": [
       "<AxesSubplot:xlabel='wave_end'>"
      ]
     },
     "execution_count": 17,
     "metadata": {},
     "output_type": "execute_result"
    },
    {
     "data": {
      "image/png": "[encoded data removed]",
      "text/plain": [
       "<Figure size 432x288 with 1 Axes>"
      ]
     },
     "metadata": {
      "needs_background": "light"
     },
     "output_type": "display_data"
    }
   ],
   "source": [
    "survey_grouped['co05_01'].plot()"
   ]
  },
  {
   "cell_type": "markdown",
   "metadata": {},
   "source": [
    "### Plots"
   ]
  },
  {
   "cell_type": "code",
   "execution_count": 22,
   "metadata": {
    "pycharm": {
     "is_executing": true
    }
   },
   "outputs": [
    {
     "data": {
      "text/plain": [
       "<matplotlib.legend.Legend at 0x1cb39547250>"
      ]
     },
     "execution_count": 22,
     "metadata": {},
     "output_type": "execute_result"
    },
    {
     "data": {
      "image/png": "[encoded data removed]",
      "text/plain": [
       "<Figure size 1440x720 with 1 Axes>"
      ]
     },
     "metadata": {
      "needs_background": "light"
     },
     "output_type": "display_data"
    }
   ],
   "source": [
    "fig, ax = plt.subplots(figsize=(20,10))\n",
    "#ax.plot(survey_sub.resample('1d').sum().loc[start:end, 'co05_01'], linestyle='-', linewidth=0.5, label='Maßnahmenänderung')\n",
    "ax.plot(survey_grouped['co05_01'].index, survey_grouped['co05_01'], linestyle='-', linewidth=0.5, label='Survey: Should the actions be increased?', color='blue')\n",
    "ax.plot(postings.resample('1d').sum().loc[start:end, 'anger'], linestyle='-', linewidth=0.5, label='Standardforum: Anger', color='black')\n",
    "\n",
    "ax.axvspan(pd.to_datetime(start_lockdown1), pd.to_datetime(end_lockdown1), color='red', alpha=0.05, label=\"Lockdowns\")\n",
    "ax.axvspan(pd.to_datetime(start_lockdown2), pd.to_datetime(end_lockdown2), color='red', alpha=0.05)\n",
    "ax.axvspan(pd.to_datetime(start_lockdown3), pd.to_datetime(end_lockdown3), color='red', alpha=0.05)\n",
    "\n",
    "ax.axvline(pd.to_datetime('2020-04-06'), linewidth=0.5, color='red', alpha=0.5)\n",
    "ax.text(x=pd.to_datetime('2020-04-06'), y=400, s='Mandatory face-masks\\nin grocery stores', rotation=45)\n",
    "ax.axvline(pd.to_datetime('2020-11-02'), linewidth=0.5, color='red', alpha=0.5)\n",
    "ax.text(x=pd.to_datetime('2020-11-02'), y=400, s='Terrorist attack in Vienna', rotation=45)\n",
    "\n",
    "\n",
    "fig.autofmt_xdate()\n",
    "ax.set_ylabel(\"\")\n",
    "ax.set_title(\"Public Sentiment during the first three Lockdowns in Austria\")\n",
    "ax.legend()"
   ]
  },
  {
   "cell_type": "code",
   "execution_count": null,
   "metadata": {
    "pycharm": {
     "is_executing": true
    }
   },
   "outputs": [],
   "source": []
  },
  {
   "cell_type": "code",
   "execution_count": null,
   "metadata": {
    "pycharm": {
     "is_executing": true
    }
   },
   "outputs": [],
   "source": []
  }
 ],
 "metadata": {
  "kernelspec": {
   "display_name": "Python 3",
   "language": "python",
   "name": "python3"
  },
  "language_info": {
   "codemirror_mode": {
    "name": "ipython",
    "version": 3
   },
   "file_extension": ".py",
   "mimetype": "text/x-python",
   "name": "python",
   "nbconvert_exporter": "python",
   "pygments_lexer": "ipython3",
   "version": "3.8.6"
  }
 },
 "nbformat": 4,
 "nbformat_minor": 1
}