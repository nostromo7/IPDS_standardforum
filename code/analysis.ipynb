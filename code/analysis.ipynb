{
 "cells": [
  {
   "cell_type": "code",
   "execution_count": 1,
   "metadata": {
    "pycharm": {
     "is_executing": true
    }
   },
   "outputs": [],
   "source": [
    "import pandas as pd\n",
    "import matplotlib.pyplot as plt"
   ]
  },
  {
   "cell_type": "markdown",
   "metadata": {},
   "source": [
    "### Global Variables"
   ]
  },
  {
   "cell_type": "code",
   "execution_count": 2,
   "metadata": {
    "pycharm": {
     "is_executing": true
    }
   },
   "outputs": [],
   "source": [
    "start, end = '2020-03-06', '2021-01-27'\n",
    "start_lockdown1, start_lockdown2, start_lockdown3 = '2020-03-16', '2020-11-17', '2020-12-26'\n",
    "end_lockdown1, end_lockdown2, end_lockdown3 = '2020-04-20', '2020-12-06', '2021-02-07'\n",
    "input_postings = r'../data/preprocessing/combined_postings_final.pickle'\n",
    "input_summer_gap = r'../data/preprocessing/year_20_final.pickle'\n",
    "input_survey = r'../data/survey_data_covid_variables.csv'"
   ]
  },
  {
   "cell_type": "markdown",
   "metadata": {},
   "source": [
    "### Load datasets"
   ]
  },
  {
   "cell_type": "markdown",
   "metadata": {},
   "source": [
    "Load and analyize survey dataset:"
   ]
  },
  {
   "cell_type": "code",
   "execution_count": 3,
   "metadata": {
    "pycharm": {
     "is_executing": true
    }
   },
   "outputs": [
    {
     "name": "stderr",
     "output_type": "stream",
     "text": [
      "e:\\users\\moritz\\dokumente\\uni\\ipds_standardforum\\venv\\lib\\site-packages\\IPython\\core\\interactiveshell.py:3165: DtypeWarning: Columns (27,30) have mixed types.Specify dtype option on import or set low_memory=False.\n",
      "  has_raised = await self.run_ast_nodes(code_ast.body, cell_name,\n"
     ]
    },
    {
     "data": {
      "text/html": [
       "<div>\n",
       "<style scoped>\n",
       "    .dataframe tbody tr th:only-of-type {\n",
       "        vertical-align: middle;\n",
       "    }\n",
       "\n",
       "    .dataframe tbody tr th {\n",
       "        vertical-align: top;\n",
       "    }\n",
       "\n",
       "    .dataframe thead th {\n",
       "        text-align: right;\n",
       "    }\n",
       "</style>\n",
       "<table border=\"1\" class=\"dataframe\">\n",
       "  <thead>\n",
       "    <tr style=\"text-align: right;\">\n",
       "      <th></th>\n",
       "      <th>welle</th>\n",
       "      <th>co05_01</th>\n",
       "      <th>co06_01</th>\n",
       "      <th>co06_02</th>\n",
       "      <th>co06_03</th>\n",
       "      <th>co06_04</th>\n",
       "      <th>co06_05</th>\n",
       "      <th>co06_06</th>\n",
       "      <th>co08_01</th>\n",
       "      <th>co19_01</th>\n",
       "    </tr>\n",
       "  </thead>\n",
       "  <tbody>\n",
       "    <tr>\n",
       "      <th>0</th>\n",
       "      <td>1</td>\n",
       "      <td>3</td>\n",
       "      <td>2</td>\n",
       "      <td>4</td>\n",
       "      <td>4</td>\n",
       "      <td>4</td>\n",
       "      <td>4</td>\n",
       "      <td>4</td>\n",
       "      <td>3</td>\n",
       "      <td>NaN</td>\n",
       "    </tr>\n",
       "    <tr>\n",
       "      <th>1</th>\n",
       "      <td>1</td>\n",
       "      <td>3</td>\n",
       "      <td>1</td>\n",
       "      <td>1</td>\n",
       "      <td>-1</td>\n",
       "      <td>-1</td>\n",
       "      <td>-1</td>\n",
       "      <td>1</td>\n",
       "      <td>1</td>\n",
       "      <td>NaN</td>\n",
       "    </tr>\n",
       "    <tr>\n",
       "      <th>2</th>\n",
       "      <td>1</td>\n",
       "      <td>1</td>\n",
       "      <td>1</td>\n",
       "      <td>2</td>\n",
       "      <td>-1</td>\n",
       "      <td>3</td>\n",
       "      <td>4</td>\n",
       "      <td>2</td>\n",
       "      <td>3</td>\n",
       "      <td>NaN</td>\n",
       "    </tr>\n",
       "    <tr>\n",
       "      <th>3</th>\n",
       "      <td>1</td>\n",
       "      <td>2</td>\n",
       "      <td>2</td>\n",
       "      <td>2</td>\n",
       "      <td>1</td>\n",
       "      <td>2</td>\n",
       "      <td>1</td>\n",
       "      <td>2</td>\n",
       "      <td>1</td>\n",
       "      <td>NaN</td>\n",
       "    </tr>\n",
       "    <tr>\n",
       "      <th>4</th>\n",
       "      <td>1</td>\n",
       "      <td>3</td>\n",
       "      <td>4</td>\n",
       "      <td>3</td>\n",
       "      <td>4</td>\n",
       "      <td>3</td>\n",
       "      <td>4</td>\n",
       "      <td>3</td>\n",
       "      <td>5</td>\n",
       "      <td>NaN</td>\n",
       "    </tr>\n",
       "  </tbody>\n",
       "</table>\n",
       "</div>"
      ],
      "text/plain": [
       "   welle  co05_01  co06_01  co06_02  co06_03  co06_04  co06_05  co06_06  \\\n",
       "0      1        3        2        4        4        4        4        4   \n",
       "1      1        3        1        1       -1       -1       -1        1   \n",
       "2      1        1        1        2       -1        3        4        2   \n",
       "3      1        2        2        2        1        2        1        2   \n",
       "4      1        3        4        3        4        3        4        3   \n",
       "\n",
       "   co08_01  co19_01  \n",
       "0        3      NaN  \n",
       "1        1      NaN  \n",
       "2        3      NaN  \n",
       "3        1      NaN  \n",
       "4        5      NaN  "
      ]
     },
     "execution_count": 3,
     "metadata": {},
     "output_type": "execute_result"
    }
   ],
   "source": [
    "survey = pd.read_csv(input_survey)\n",
    "survey_sub = survey[['welle', 'co05_01', 'co06_01', 'co06_02', 'co06_03', 'co06_04', 'co06_05', 'co06_06', 'co08_01', 'co19_01']]\n",
    "survey_sub.head()"
   ]
  },
  {
   "cell_type": "code",
   "execution_count": 4,
   "metadata": {
    "pycharm": {
     "is_executing": true
    }
   },
   "outputs": [],
   "source": [
    "survey_wave_map = {\n",
    "    1: pd.to_datetime('5.5.2020'),\n",
    "    2: pd.to_datetime('5.28.2020'),\n",
    "    3: pd.to_datetime('6.17.2020'),\n",
    "    4: pd.to_datetime('7.8.2020'),\n",
    "    5: pd.to_datetime('7.30.2020'),\n",
    "    6: pd.to_datetime('8.22.2020'),\n",
    "    7: pd.to_datetime('9.14.2020'),\n",
    "    8: pd.to_datetime('9.29.2020'),\n",
    "    9: pd.to_datetime('10.21.2020'),\n",
    "    10: pd.to_datetime('11.11.2020'),\n",
    "    11: pd.to_datetime('11.28.2020'),\n",
    "    12: pd.to_datetime('12.22.2020'),\n",
    "}"
   ]
  },
  {
   "cell_type": "code",
   "execution_count": 5,
   "metadata": {
    "pycharm": {
     "is_executing": true
    }
   },
   "outputs": [
    {
     "name": "stderr",
     "output_type": "stream",
     "text": [
      "<ipython-input-5-6168f1e47519>:1: SettingWithCopyWarning: \n",
      "A value is trying to be set on a copy of a slice from a DataFrame.\n",
      "Try using .loc[row_indexer,col_indexer] = value instead\n",
      "\n",
      "See the caveats in the documentation: https://pandas.pydata.org/pandas-docs/stable/user_guide/indexing.html#returning-a-view-versus-a-copy\n",
      "  survey_sub['wave_end'] = pd.to_datetime(survey_sub['welle'].map(survey_wave_map))\n"
     ]
    }
   ],
   "source": [
    "survey_sub['wave_end'] = pd.to_datetime(survey_sub['welle'].map(survey_wave_map))"
   ]
  },
  {
   "cell_type": "code",
   "execution_count": 6,
   "metadata": {
    "pycharm": {
     "is_executing": true
    }
   },
   "outputs": [],
   "source": [
    "survey_sub = survey_sub.set_index('wave_end')"
   ]
  },
  {
   "cell_type": "markdown",
   "metadata": {},
   "source": [
    "Load and analyze postings dataset:"
   ]
  },
  {
   "cell_type": "code",
   "execution_count": 7,
   "metadata": {
    "pycharm": {
     "is_executing": true
    }
   },
   "outputs": [
    {
     "data": {
      "text/html": [
       "<div>\n",
       "<style scoped>\n",
       "    .dataframe tbody tr th:only-of-type {\n",
       "        vertical-align: middle;\n",
       "    }\n",
       "\n",
       "    .dataframe tbody tr th {\n",
       "        vertical-align: top;\n",
       "    }\n",
       "\n",
       "    .dataframe thead th {\n",
       "        text-align: right;\n",
       "    }\n",
       "</style>\n",
       "<table border=\"1\" class=\"dataframe\">\n",
       "  <thead>\n",
       "    <tr style=\"text-align: right;\">\n",
       "      <th></th>\n",
       "      <th>oid</th>\n",
       "      <th>pid</th>\n",
       "      <th>cd</th>\n",
       "      <th>vp</th>\n",
       "      <th>vn</th>\n",
       "      <th>allText</th>\n",
       "      <th>18</th>\n",
       "      <th>number_tokens</th>\n",
       "      <th>anger</th>\n",
       "    </tr>\n",
       "    <tr>\n",
       "      <th>cd</th>\n",
       "      <th></th>\n",
       "      <th></th>\n",
       "      <th></th>\n",
       "      <th></th>\n",
       "      <th></th>\n",
       "      <th></th>\n",
       "      <th></th>\n",
       "      <th></th>\n",
       "      <th></th>\n",
       "    </tr>\n",
       "  </thead>\n",
       "  <tbody>\n",
       "    <tr>\n",
       "      <th>2020-12-31 19:04:57.643000+00:00</th>\n",
       "      <td>2000122865130</td>\n",
       "      <td>1064710786</td>\n",
       "      <td>2020-12-31 20:04:57.643000+01:00</td>\n",
       "      <td>4</td>\n",
       "      <td>0</td>\n",
       "      <td>Herr Bundespräsidentnach Artikel 70 B-VG könne...</td>\n",
       "      <td>0</td>\n",
       "      <td>28</td>\n",
       "      <td>0.0</td>\n",
       "    </tr>\n",
       "    <tr>\n",
       "      <th>2021-01-01 05:00:14.350000+00:00</th>\n",
       "      <td>2000122865130</td>\n",
       "      <td>1064724063</td>\n",
       "      <td>2021-01-01 06:00:14.350000+01:00</td>\n",
       "      <td>2</td>\n",
       "      <td>0</td>\n",
       "      <td>Der Flash wird noch eine weitere Amtszeit dafü...</td>\n",
       "      <td>0</td>\n",
       "      <td>9</td>\n",
       "      <td>0.0</td>\n",
       "    </tr>\n",
       "    <tr>\n",
       "      <th>2020-12-31 19:57:02.017000+00:00</th>\n",
       "      <td>2000122865130</td>\n",
       "      <td>1064712838</td>\n",
       "      <td>2020-12-31 20:57:02.017000+01:00</td>\n",
       "      <td>2</td>\n",
       "      <td>0</td>\n",
       "      <td>Das ist wahrscheinlich sogar unserem HBP zu pe...</td>\n",
       "      <td>0</td>\n",
       "      <td>8</td>\n",
       "      <td>0.0</td>\n",
       "    </tr>\n",
       "    <tr>\n",
       "      <th>2020-12-31 18:09:04.760000+00:00</th>\n",
       "      <td>2000122865130</td>\n",
       "      <td>1064708391</td>\n",
       "      <td>2020-12-31 19:09:04.760000+01:00</td>\n",
       "      <td>3</td>\n",
       "      <td>0</td>\n",
       "      <td>Ausnahmegesetze für unseren Ausnahmenkanzler ...</td>\n",
       "      <td>0</td>\n",
       "      <td>4</td>\n",
       "      <td>0.0</td>\n",
       "    </tr>\n",
       "    <tr>\n",
       "      <th>2020-12-31 17:43:57.973000+00:00</th>\n",
       "      <td>2000122865130</td>\n",
       "      <td>1064707195</td>\n",
       "      <td>2020-12-31 18:43:57.973000+01:00</td>\n",
       "      <td>3</td>\n",
       "      <td>0</td>\n",
       "      <td>Anschober will...Anschober kann aber nicht.</td>\n",
       "      <td>0</td>\n",
       "      <td>5</td>\n",
       "      <td>0.0</td>\n",
       "    </tr>\n",
       "  </tbody>\n",
       "</table>\n",
       "</div>"
      ],
      "text/plain": [
       "                                            oid         pid  \\\n",
       "cd                                                            \n",
       "2020-12-31 19:04:57.643000+00:00  2000122865130  1064710786   \n",
       "2021-01-01 05:00:14.350000+00:00  2000122865130  1064724063   \n",
       "2020-12-31 19:57:02.017000+00:00  2000122865130  1064712838   \n",
       "2020-12-31 18:09:04.760000+00:00  2000122865130  1064708391   \n",
       "2020-12-31 17:43:57.973000+00:00  2000122865130  1064707195   \n",
       "\n",
       "                                                                cd  vp  vn  \\\n",
       "cd                                                                           \n",
       "2020-12-31 19:04:57.643000+00:00  2020-12-31 20:04:57.643000+01:00   4   0   \n",
       "2021-01-01 05:00:14.350000+00:00  2021-01-01 06:00:14.350000+01:00   2   0   \n",
       "2020-12-31 19:57:02.017000+00:00  2020-12-31 20:57:02.017000+01:00   2   0   \n",
       "2020-12-31 18:09:04.760000+00:00  2020-12-31 19:09:04.760000+01:00   3   0   \n",
       "2020-12-31 17:43:57.973000+00:00  2020-12-31 18:43:57.973000+01:00   3   0   \n",
       "\n",
       "                                                                            allText  \\\n",
       "cd                                                                                    \n",
       "2020-12-31 19:04:57.643000+00:00  Herr Bundespräsidentnach Artikel 70 B-VG könne...   \n",
       "2021-01-01 05:00:14.350000+00:00  Der Flash wird noch eine weitere Amtszeit dafü...   \n",
       "2020-12-31 19:57:02.017000+00:00  Das ist wahrscheinlich sogar unserem HBP zu pe...   \n",
       "2020-12-31 18:09:04.760000+00:00   Ausnahmegesetze für unseren Ausnahmenkanzler ...   \n",
       "2020-12-31 17:43:57.973000+00:00        Anschober will...Anschober kann aber nicht.   \n",
       "\n",
       "                                  18  number_tokens  anger  \n",
       "cd                                                          \n",
       "2020-12-31 19:04:57.643000+00:00   0             28    0.0  \n",
       "2021-01-01 05:00:14.350000+00:00   0              9    0.0  \n",
       "2020-12-31 19:57:02.017000+00:00   0              8    0.0  \n",
       "2020-12-31 18:09:04.760000+00:00   0              4    0.0  \n",
       "2020-12-31 17:43:57.973000+00:00   0              5    0.0  "
      ]
     },
     "execution_count": 7,
     "metadata": {},
     "output_type": "execute_result"
    }
   ],
   "source": [
    "cols_to_drop = ['rid', 'ppid', 'o', 'hl', 'tx', 'cn', '13', '16', '17', '19', '31', '200', 'pid_liwc']\n",
    "postings = pd.read_pickle(input_postings).drop(cols_to_drop, axis=1)\n",
    "postings.index = pd.to_datetime(postings.cd, utc=True)\n",
    "postings['anger'] = postings['18']/postings['number_tokens']\n",
    "postings.head()"
   ]
  },
  {
   "cell_type": "code",
   "execution_count": 8,
   "metadata": {
    "pycharm": {
     "is_executing": true
    },
    "scrolled": true
   },
   "outputs": [],
   "source": [
    "#postings['anger'].hist()"
   ]
  },
  {
   "cell_type": "markdown",
   "metadata": {},
   "source": [
    "Load and analyze dataset of articles to fill gap in the summer"
   ]
  },
  {
   "cell_type": "code",
   "execution_count": null,
   "metadata": {
    "pycharm": {
     "is_executing": true
    }
   },
   "outputs": [],
   "source": [
    "postings_summer_gap = pd.read_pickle(input_summer_gap).sort_index()\n",
    "postings_summer_gap.index = pd.to_datetime(postings_summer_gap.index, utc=True)\n",
    "postings_summer_gap.tail()"
   ]
  },
  {
   "cell_type": "code",
   "execution_count": null,
   "metadata": {
    "pycharm": {
     "is_executing": true
    }
   },
   "outputs": [],
   "source": [
    "postings_summer_gap['anger2'] = postings_summer_gap['18'] / postings_summer_gap['number_tokens']"
   ]
  },
  {
   "cell_type": "code",
   "execution_count": null,
   "metadata": {
    "pycharm": {
     "is_executing": true
    }
   },
   "outputs": [],
   "source": [
    "p1 = pd.DataFrame(postings['anger'])\n",
    "p1.index = postings['pid']\n",
    "\n",
    "p2 = pd.DataFrame(postings_summer_gap['anger2'])\n",
    "p2.index = postings_summer_gap['postid']"
   ]
  },
  {
   "cell_type": "markdown",
   "metadata": {
    "pycharm": {
     "is_executing": true
    }
   },
   "source": [
    "Create dataframe containing liveticker (anger) and articles (anger2) counts as well as the sum"
   ]
  },
  {
   "cell_type": "code",
   "execution_count": null,
   "metadata": {
    "pycharm": {
     "is_executing": true
    }
   },
   "outputs": [],
   "source": [
    "combined = pd.concat([postings['anger'].resample('1d').sum(), postings_summer_gap['anger2'].resample('1d').sum()], axis=1)\n",
    "combined['anger_total'] = combined['anger'].fillna(0) + combined['anger2'].fillna(0)\n",
    "combined"
   ]
  },
  {
   "cell_type": "markdown",
   "metadata": {
    "pycharm": {
     "is_executing": true
    }
   },
   "source": [
    "Create baseline difference for selected surey questions"
   ]
  },
  {
   "cell_type": "code",
   "execution_count": null,
   "metadata": {
    "pycharm": {
     "is_executing": true
    },
    "scrolled": true
   },
   "outputs": [],
   "source": [
    "survey_grouped = survey_sub.groupby('welle').resample('1d').mean()\n",
    "survey_grouped.index = survey_grouped.index.droplevel('welle')\n",
    "survey_grouped['baseline_diff_05'] = (survey_grouped['co05_01'] - survey_grouped['co05_01'][0])/survey_grouped['co05_01'][0]\n",
    "survey_grouped['baseline_diff_06_1'] = (survey_grouped['co06_01'] - survey_grouped['co06_01'][0])/survey_grouped['co06_01'][0]\n",
    "survey_grouped['baseline_diff_06_2'] = (survey_grouped['co06_02'] - survey_grouped['co06_02'][0])/survey_grouped['co06_02'][0]\n",
    "survey_grouped['baseline_diff_06_3'] = (survey_grouped['co06_03'] - survey_grouped['co06_03'][0])/survey_grouped['co06_03'][0]\n",
    "survey_grouped['baseline_diff_06_4'] = (survey_grouped['co06_04'] - survey_grouped['co06_04'][0])/survey_grouped['co06_04'][0]\n",
    "survey_grouped['baseline_diff_06_5'] = (survey_grouped['co06_05'] - survey_grouped['co06_05'][0])/survey_grouped['co06_05'][0]\n",
    "survey_grouped['baseline_diff_06_6'] = (survey_grouped['co06_06'] - survey_grouped['co06_06'][0])/survey_grouped['co06_06'][0]\n",
    "survey_grouped['baseline_diff_08'] = (survey_grouped['co08_01'] - survey_grouped['co08_01'][0])/survey_grouped['co08_01'][0]\n",
    "survey_grouped['baseline_diff_19'] = (survey_grouped['co19_01'] - survey_grouped['co19_01'][9])/survey_grouped['co19_01'][9]\n",
    "survey_grouped"
   ]
  },
  {
   "cell_type": "code",
   "execution_count": null,
   "metadata": {
    "pycharm": {
     "is_executing": true
    }
   },
   "outputs": [],
   "source": [
    "survey_grouped['baseline_diff_05'].plot()"
   ]
  },
  {
   "cell_type": "markdown",
   "metadata": {},
   "source": [
    "### Plots"
   ]
  },
  {
   "cell_type": "code",
   "execution_count": null,
   "metadata": {
    "pycharm": {
     "is_executing": true
    }
   },
   "outputs": [],
   "source": [
    "fig, ax = plt.subplots(figsize=(20,10))\n",
    "ax.plot(combined.loc[start:end, 'anger_total'], linestyle='-', linewidth=1, alpha=0.4, label='DERSTANDARD livetickers & articles: LIWC Anger-count')\n",
    "\n",
    "ax.set_ylabel('DERSTANDARD: LIWC Anger-count')\n",
    "\n",
    "ax.axvspan(pd.to_datetime(start_lockdown1), pd.to_datetime(end_lockdown1), color='red', alpha=0.05, label=\"Lockdowns\")\n",
    "ax.axvspan(pd.to_datetime(start_lockdown2), pd.to_datetime(end_lockdown2), color='red', alpha=0.05)\n",
    "ax.axvspan(pd.to_datetime(start_lockdown3), pd.to_datetime(end_lockdown3), color='red', alpha=0.05)\n",
    "\n",
    "ax.axvline(pd.to_datetime('2020-04-06'), linewidth=0.5, color='red', alpha=0.5, label='2020-04-06: Mandatory face-masks in grocery stores')\n",
    "ax.axvline(pd.to_datetime('2020-11-02'), linewidth=0.5, color='red', alpha=0.5, label='2020-11-02: Terrorist attack in Vienna')\n",
    "\n",
    "ax2 = ax.twinx()\n",
    "ax2.set_ylim([-1,1])\n",
    "lables = [item.get_text() for item in ax2.get_yticklabels()]\n",
    "lables[1] = 'no'\n",
    "lables[len(lables)-2] = 'yes'\n",
    "lables[int(len(lables)/2)] = 'base\\nline'\n",
    "ax2.set_yticklabels(lables)\n",
    "ax2.plot(survey_grouped.index, survey_grouped['baseline_diff_05'],label=\"Q5: Should the actions be increased?\", linestyle='-', marker='o', linewidth=0.5, color='blue')\n",
    "ax2.plot(survey_grouped.index, survey_grouped['baseline_diff_06_1'],label=\"Q6_1: Do you feel restricted in your family life?\", linestyle='-', marker='o', linewidth=0.5)\n",
    "ax2.plot(survey_grouped.index, survey_grouped['baseline_diff_06_2'],label=\"Q6_2: Do you feel restricted in your work life?\", linestyle='-', marker='o', linewidth=0.5)\n",
    "ax2.plot(survey_grouped.index, survey_grouped['baseline_diff_06_3'],label=\"Q6_3: Do you feel restricted in your school/uni life?\", linestyle='-', marker='o', linewidth=0.5)\n",
    "ax2.plot(survey_grouped.index, survey_grouped['baseline_diff_06_4'],label=\"Q6_4: Do you feel restricted in your social life?\", linestyle='-', marker='o', linewidth=0.5)\n",
    "ax2.plot(survey_grouped.index, survey_grouped['baseline_diff_06_5'],label=\"Q6_5: Do you feel restricted in your cultural life?\", linestyle='-', marker='o', linewidth=0.5)\n",
    "ax2.plot(survey_grouped.index, survey_grouped['baseline_diff_06_6'],label=\"Q6_6: Do you feel restricted in your shopping experience?\", linestyle='-', marker='o', linewidth=0.5)\n",
    "ax2.plot(survey_grouped.index, survey_grouped['baseline_diff_08'],label=\"Q8: Do you feel angry in the last weeks?\", linestyle='-', marker='o', linewidth=0.5)\n",
    "ax2.plot(survey_grouped.index, survey_grouped['baseline_diff_19'],label=\"Q19: Has the government a good communication strategy?\", linestyle='-', marker='o', linewidth=0.5)\n",
    "\n",
    "ax2.tick_params(axis='y', labelcolor='gray')\n",
    "\n",
    "fig.autofmt_xdate()\n",
    "ax2.set_ylabel(\"Baseline difference\", color='gray')\n",
    "ax.set_title(\"Public sentiment during the first three lockdowns in Austria\")\n",
    "\n",
    "lines, labels = ax.get_legend_handles_labels()\n",
    "lines2, labels2 = ax2.get_legend_handles_labels()\n",
    "ax2.legend(lines + lines2, labels + labels2, loc=0)"
   ]
  },
  {
   "cell_type": "code",
   "execution_count": null,
   "metadata": {
    "pycharm": {
     "is_executing": true
    }
   },
   "outputs": [],
   "source": [
    "combined = pd.concat([postings['pid'].resample('1d').count(), postings_summer_gap['postid'].resample('1d').count()], axis=1)\n",
    "combined['pid'] = combined['pid'].fillna(0)\n",
    "combined['postid'] = combined['postid'].fillna(0)\n",
    "combined['postings_total'] = combined['pid'] + combined['postid']\n",
    "combined.index = pd.to_datetime(combined.index, utc=True)\n",
    "\n",
    "fig, ax = plt.subplots(figsize=(20,10))\n",
    "\n",
    "plt.title('Total number of LWIC anger counts from DERSTANDARD livetickers and articles')\n",
    "ax.plot(combined.loc[start:end,'postings_total'], label='DERSTANDARD: Combined number', linestyle='-', linewidth=1, alpha=0.4)\n",
    "ax.plot(combined.loc[start:end,'pid'], label='DERSTANDARD: Only Livetickers', linestyle='-', linewidth=1, alpha=0.4)\n",
    "ax.plot(combined.loc[start:end,'postid'], label='DERSTANDARD: Only Articles', linestyle='-', linewidth=1, alpha=0.4)\n",
    "plt.legend(loc='upper right')"
   ]
  },
  {
   "cell_type": "code",
   "execution_count": null,
   "metadata": {
    "pycharm": {
     "is_executing": true
    }
   },
   "outputs": [],
   "source": [
    "fig, ax = plt.subplots(figsize=(20,10))\n",
    "\n",
    "ax.axvspan(pd.to_datetime(start_lockdown1), pd.to_datetime(end_lockdown1), color='red', alpha=0.05, label=\"Lockdowns\")\n",
    "ax.axvspan(pd.to_datetime(start_lockdown2), pd.to_datetime(end_lockdown2), color='red', alpha=0.05)\n",
    "ax.axvspan(pd.to_datetime(start_lockdown3), pd.to_datetime(end_lockdown3), color='red', alpha=0.05)\n",
    "\n",
    "ax.axvline(pd.to_datetime('2020-04-06'), linewidth=0.5, color='red', alpha=0.5, label='2020-04-06: Mandatory face-masks in grocery stores')\n",
    "ax.axvline(pd.to_datetime('2020-11-02'), linewidth=0.5, color='red', alpha=0.5, label='2020-11-02: Terrorist attack in Vienna')\n",
    "\n",
    "plt.title('Total number of LWIC anger counts from DERSTANDARD livetickers and articles')\n",
    "ax.plot(combined.loc[start:end,'postings_total'], label='DERSTANDARD: Combined number', linestyle='-', linewidth=1, alpha=0.4)\n",
    "plt.legend(loc='upper right')"
   ]
  },
  {
   "cell_type": "code",
   "execution_count": null,
   "metadata": {
    "pycharm": {
     "is_executing": true
    }
   },
   "outputs": [],
   "source": [
    "postings[['18', 'number_tokens']].resample('1d').sum()\n",
    "combined = pd.concat(\n",
    "    [postings[['18', 'number_tokens']].resample('1d').sum().rename(columns={'18': 'anger_livetickers', 'number_tokens': 'number_tokens_liveticker'}),\n",
    "     postings_summer_gap[['18', 'number_tokens']].resample('1d').sum().rename(columns={'18': 'anger_articles', 'number_tokens': 'number_tokens_articles'})\n",
    "    ], axis=1).fillna(0)\n",
    "combined['anger_both'] = combined['anger_livetickers'] + combined['anger_articles']\n",
    "combined['number_tokens_both'] = combined['number_tokens_liveticker'] + combined['number_tokens_articles']\n",
    "combined['anger_rel'] = combined['anger_both'] / combined['number_tokens_both']\n",
    "\n",
    "combined.head()"
   ]
  },
  {
   "cell_type": "code",
   "execution_count": null,
   "metadata": {
    "pycharm": {
     "is_executing": true
    }
   },
   "outputs": [],
   "source": [
    "fig, ax = plt.subplots(figsize=(20,10))\n",
    "ax.plot(combined.loc[start:end,'anger_rel'], alpha=0.4, label='Anger per day relative to total number of tokens')\n",
    "ax.axvspan(pd.to_datetime(start_lockdown1), pd.to_datetime(end_lockdown1), color='red', alpha=0.05, label=\"Lockdowns\")\n",
    "ax.axvspan(pd.to_datetime(start_lockdown2), pd.to_datetime(end_lockdown2), color='red', alpha=0.05)\n",
    "ax.axvspan(pd.to_datetime(start_lockdown3), pd.to_datetime(end_lockdown3), color='red', alpha=0.05)\n",
    "ax.axvline(pd.to_datetime('2020-04-06'), linewidth=0.5, color='red', alpha=0.5, label='2020-04-06: Mandatory face-masks in grocery stores')\n",
    "ax.axvline(pd.to_datetime('2020-11-02'), linewidth=0.5, color='red', alpha=0.5, label='2020-11-02: Terrorist attack in Vienna')\n",
    "\n",
    "fig.autofmt_xdate()\n",
    "plt.title('Normalized number of LWIC anger counts from DERSTANDARD livetickers and articles')\n",
    "\n",
    "lines, labels = ax.get_legend_handles_labels()\n",
    "ax.legend(loc='upper right')"
   ]
  }
 ],
 "metadata": {
  "kernelspec": {
   "display_name": "Python 3",
   "language": "python",
   "name": "python3"
  },
  "language_info": {
   "codemirror_mode": {
    "name": "ipython",
    "version": 3
   },
   "file_extension": ".py",
   "mimetype": "text/x-python",
   "name": "python",
   "nbconvert_exporter": "python",
   "pygments_lexer": "ipython3",
   "version": "3.8.6"
  }
 },
 "nbformat": 4,
 "nbformat_minor": 1
}