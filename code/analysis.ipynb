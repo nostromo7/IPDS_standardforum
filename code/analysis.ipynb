{
 "cells": [
  {
   "cell_type": "code",
   "execution_count": 1,
   "metadata": {
    "pycharm": {
     "is_executing": true
    }
   },
   "outputs": [],
   "source": [
    "import numpy as np\n",
    "import pandas as pd\n",
    "import matplotlib.pyplot as plt\n",
    "import os\n",
    "from sklearn.preprocessing import minmax_scale"
   ]
  },
  {
   "cell_type": "markdown",
   "metadata": {},
   "source": [
    "### Global Variables"
   ]
  },
  {
   "cell_type": "code",
   "execution_count": 74,
   "metadata": {
    "pycharm": {
     "is_executing": true
    }
   },
   "outputs": [],
   "source": [
    "#start, end = '2020-03-06', '2021-01-27' #postings df\n",
    "start, end = '2020-01-01', '2021-01-27'\n",
    "start_lockdown1, start_lockdown2, start_lockdown3 = '2020-03-16', '2020-11-17', '2020-12-26'\n",
    "end_lockdown1, end_lockdown2, end_lockdown3 = '2020-04-20', '2020-12-06', '2021-02-07'\n",
    "input_postings = r'../data/preprocessing/combined_postings_final.pickle'\n",
    "input_summer_gap = r'../data/preprocessing/year_20_final.pickle'\n",
    "input_survey = r'../data/survey_data_covid_variables.csv'"
   ]
  },
  {
   "cell_type": "markdown",
   "metadata": {},
   "source": [
    "### Load datasets"
   ]
  },
  {
   "cell_type": "markdown",
   "metadata": {},
   "source": [
    "Load and analyize survey dataset:"
   ]
  },
  {
   "cell_type": "code",
   "execution_count": 3,
   "metadata": {
    "pycharm": {
     "is_executing": true
    }
   },
   "outputs": [
    {
     "name": "stderr",
     "output_type": "stream",
     "text": [
      "e:\\users\\moritz\\dokumente\\uni\\ipds_standardforum\\venv\\lib\\site-packages\\IPython\\core\\interactiveshell.py:3165: DtypeWarning: Columns (27,30) have mixed types.Specify dtype option on import or set low_memory=False.\n",
      "  has_raised = await self.run_ast_nodes(code_ast.body, cell_name,\n"
     ]
    }
   ],
   "source": [
    "survey = pd.read_csv(input_survey)"
   ]
  },
  {
   "cell_type": "code",
   "execution_count": 4,
   "metadata": {
    "pycharm": {
     "is_executing": true
    }
   },
   "outputs": [
    {
     "data": {
      "text/html": [
       "<div>\n",
       "<style scoped>\n",
       "    .dataframe tbody tr th:only-of-type {\n",
       "        vertical-align: middle;\n",
       "    }\n",
       "\n",
       "    .dataframe tbody tr th {\n",
       "        vertical-align: top;\n",
       "    }\n",
       "\n",
       "    .dataframe thead th {\n",
       "        text-align: right;\n",
       "    }\n",
       "</style>\n",
       "<table border=\"1\" class=\"dataframe\">\n",
       "  <thead>\n",
       "    <tr style=\"text-align: right;\">\n",
       "      <th></th>\n",
       "      <th>welle</th>\n",
       "      <th>co01</th>\n",
       "      <th>co02</th>\n",
       "      <th>co02_09</th>\n",
       "      <th>co02_01</th>\n",
       "      <th>co02_02</th>\n",
       "      <th>co02_03</th>\n",
       "      <th>co02_04</th>\n",
       "      <th>co02_05</th>\n",
       "      <th>co02_06</th>\n",
       "      <th>...</th>\n",
       "      <th>co21_04</th>\n",
       "      <th>co21_05</th>\n",
       "      <th>co21_06</th>\n",
       "      <th>co21_07</th>\n",
       "      <th>co21_08</th>\n",
       "      <th>co21_09</th>\n",
       "      <th>co21_10</th>\n",
       "      <th>co21_11</th>\n",
       "      <th>co22</th>\n",
       "      <th>co23</th>\n",
       "    </tr>\n",
       "  </thead>\n",
       "  <tbody>\n",
       "    <tr>\n",
       "      <th>0</th>\n",
       "      <td>1</td>\n",
       "      <td>4</td>\n",
       "      <td>1</td>\n",
       "      <td>1</td>\n",
       "      <td>1</td>\n",
       "      <td>1</td>\n",
       "      <td>1</td>\n",
       "      <td>1</td>\n",
       "      <td>1</td>\n",
       "      <td>1</td>\n",
       "      <td>...</td>\n",
       "      <td>NaN</td>\n",
       "      <td>NaN</td>\n",
       "      <td>NaN</td>\n",
       "      <td>NaN</td>\n",
       "      <td>NaN</td>\n",
       "      <td>NaN</td>\n",
       "      <td>NaN</td>\n",
       "      <td>NaN</td>\n",
       "      <td>NaN</td>\n",
       "      <td>NaN</td>\n",
       "    </tr>\n",
       "    <tr>\n",
       "      <th>1</th>\n",
       "      <td>1</td>\n",
       "      <td>4</td>\n",
       "      <td>1</td>\n",
       "      <td>1</td>\n",
       "      <td>1</td>\n",
       "      <td>1</td>\n",
       "      <td>1</td>\n",
       "      <td>1</td>\n",
       "      <td>1</td>\n",
       "      <td>1</td>\n",
       "      <td>...</td>\n",
       "      <td>NaN</td>\n",
       "      <td>NaN</td>\n",
       "      <td>NaN</td>\n",
       "      <td>NaN</td>\n",
       "      <td>NaN</td>\n",
       "      <td>NaN</td>\n",
       "      <td>NaN</td>\n",
       "      <td>NaN</td>\n",
       "      <td>NaN</td>\n",
       "      <td>NaN</td>\n",
       "    </tr>\n",
       "    <tr>\n",
       "      <th>2</th>\n",
       "      <td>1</td>\n",
       "      <td>3</td>\n",
       "      <td>1</td>\n",
       "      <td>1</td>\n",
       "      <td>1</td>\n",
       "      <td>1</td>\n",
       "      <td>1</td>\n",
       "      <td>1</td>\n",
       "      <td>1</td>\n",
       "      <td>1</td>\n",
       "      <td>...</td>\n",
       "      <td>NaN</td>\n",
       "      <td>NaN</td>\n",
       "      <td>NaN</td>\n",
       "      <td>NaN</td>\n",
       "      <td>NaN</td>\n",
       "      <td>NaN</td>\n",
       "      <td>NaN</td>\n",
       "      <td>NaN</td>\n",
       "      <td>NaN</td>\n",
       "      <td>NaN</td>\n",
       "    </tr>\n",
       "    <tr>\n",
       "      <th>3</th>\n",
       "      <td>1</td>\n",
       "      <td>3</td>\n",
       "      <td>1</td>\n",
       "      <td>1</td>\n",
       "      <td>1</td>\n",
       "      <td>1</td>\n",
       "      <td>2</td>\n",
       "      <td>1</td>\n",
       "      <td>1</td>\n",
       "      <td>1</td>\n",
       "      <td>...</td>\n",
       "      <td>NaN</td>\n",
       "      <td>NaN</td>\n",
       "      <td>NaN</td>\n",
       "      <td>NaN</td>\n",
       "      <td>NaN</td>\n",
       "      <td>NaN</td>\n",
       "      <td>NaN</td>\n",
       "      <td>NaN</td>\n",
       "      <td>NaN</td>\n",
       "      <td>NaN</td>\n",
       "    </tr>\n",
       "    <tr>\n",
       "      <th>4</th>\n",
       "      <td>1</td>\n",
       "      <td>4</td>\n",
       "      <td>1</td>\n",
       "      <td>2</td>\n",
       "      <td>1</td>\n",
       "      <td>1</td>\n",
       "      <td>1</td>\n",
       "      <td>1</td>\n",
       "      <td>1</td>\n",
       "      <td>1</td>\n",
       "      <td>...</td>\n",
       "      <td>NaN</td>\n",
       "      <td>NaN</td>\n",
       "      <td>NaN</td>\n",
       "      <td>NaN</td>\n",
       "      <td>NaN</td>\n",
       "      <td>NaN</td>\n",
       "      <td>NaN</td>\n",
       "      <td>NaN</td>\n",
       "      <td>NaN</td>\n",
       "      <td>NaN</td>\n",
       "    </tr>\n",
       "  </tbody>\n",
       "</table>\n",
       "<p>5 rows × 87 columns</p>\n",
       "</div>"
      ],
      "text/plain": [
       "   welle  co01  co02  co02_09  co02_01  co02_02  co02_03  co02_04  co02_05  \\\n",
       "0      1     4     1        1        1        1        1        1        1   \n",
       "1      1     4     1        1        1        1        1        1        1   \n",
       "2      1     3     1        1        1        1        1        1        1   \n",
       "3      1     3     1        1        1        1        2        1        1   \n",
       "4      1     4     1        2        1        1        1        1        1   \n",
       "\n",
       "   co02_06  ...  co21_04 co21_05  co21_06  co21_07  co21_08  co21_09  co21_10  \\\n",
       "0        1  ...      NaN     NaN      NaN      NaN      NaN      NaN      NaN   \n",
       "1        1  ...      NaN     NaN      NaN      NaN      NaN      NaN      NaN   \n",
       "2        1  ...      NaN     NaN      NaN      NaN      NaN      NaN      NaN   \n",
       "3        1  ...      NaN     NaN      NaN      NaN      NaN      NaN      NaN   \n",
       "4        1  ...      NaN     NaN      NaN      NaN      NaN      NaN      NaN   \n",
       "\n",
       "   co21_11  co22  co23  \n",
       "0      NaN   NaN   NaN  \n",
       "1      NaN   NaN   NaN  \n",
       "2      NaN   NaN   NaN  \n",
       "3      NaN   NaN   NaN  \n",
       "4      NaN   NaN   NaN  \n",
       "\n",
       "[5 rows x 87 columns]"
      ]
     },
     "execution_count": 4,
     "metadata": {},
     "output_type": "execute_result"
    }
   ],
   "source": [
    "survey.head()"
   ]
  },
  {
   "cell_type": "code",
   "execution_count": 5,
   "metadata": {
    "pycharm": {
     "is_executing": true
    }
   },
   "outputs": [
    {
     "data": {
      "text/plain": [
       "(12029, 0, 0, 0)"
      ]
     },
     "execution_count": 5,
     "metadata": {},
     "output_type": "execute_result"
    }
   ],
   "source": [
    "len(survey['co05_01']), len(survey[survey['co05_01'] == -9]), (survey['co05_01'].isnull().sum()), (survey['co05_01'].isna().sum())"
   ]
  },
  {
   "cell_type": "code",
   "execution_count": 6,
   "metadata": {
    "pycharm": {
     "is_executing": true
    }
   },
   "outputs": [
    {
     "data": {
      "text/plain": [
       "(12029, 0, 9018, 9018)"
      ]
     },
     "execution_count": 6,
     "metadata": {},
     "output_type": "execute_result"
    }
   ],
   "source": [
    "len(survey['co19_01']), len(survey[survey['co19_01'] == -9]), (survey['co19_01'].isnull().sum()), (survey['co19_01'].isna().sum())"
   ]
  },
  {
   "cell_type": "code",
   "execution_count": 7,
   "metadata": {
    "pycharm": {
     "is_executing": true
    }
   },
   "outputs": [],
   "source": [
    "survey_sub = survey[['welle', 'co05_01', 'co06_01', 'co06_02', 'co06_03', 'co06_04', 'co06_05', 'co06_06', 'co08_01', 'co19_01']]\n",
    "# co05_01: Die derzeit gültigen von der Regierung ergriffenen Maßnahmen zur Eindämmung der Covid-19 Pandemie sollten...\"\n",
    "#    values: 1 - 3 (=mehr maßnahmen)\n",
    "# co19_01: Wie schätzen Sie Ihren Informationsstand rund um die aktuellen Verordnungen/Maßnahmen, die im Rahmen der Covid-..\"\n",
    "#    values: 1 - 5 (=gute kommunikation)"
   ]
  },
  {
   "cell_type": "code",
   "execution_count": 8,
   "metadata": {
    "pycharm": {
     "is_executing": true
    }
   },
   "outputs": [],
   "source": [
    "wave_map = {\n",
    "    1: pd.to_datetime('5.5.2020'),\n",
    "    2: pd.to_datetime('5.28.2020'),\n",
    "    3: pd.to_datetime('6.17.2020'),\n",
    "    4: pd.to_datetime('7.8.2020'),\n",
    "    5: pd.to_datetime('7.30.2020'),\n",
    "    6: pd.to_datetime('8.22.2020'),\n",
    "    7: pd.to_datetime('9.14.2020'),\n",
    "    8: pd.to_datetime('9.29.2020'),\n",
    "    9: pd.to_datetime('10.21.2020'),\n",
    "    10: pd.to_datetime('11.11.2020'),\n",
    "    11: pd.to_datetime('11.28.2020'),\n",
    "    12: pd.to_datetime('12.22.2020'),\n",
    "}"
   ]
  },
  {
   "cell_type": "code",
   "execution_count": 9,
   "metadata": {
    "pycharm": {
     "is_executing": true
    }
   },
   "outputs": [
    {
     "name": "stderr",
     "output_type": "stream",
     "text": [
      "<ipython-input-9-82dcc5cc7d1c>:1: SettingWithCopyWarning: \n",
      "A value is trying to be set on a copy of a slice from a DataFrame.\n",
      "Try using .loc[row_indexer,col_indexer] = value instead\n",
      "\n",
      "See the caveats in the documentation: https://pandas.pydata.org/pandas-docs/stable/user_guide/indexing.html#returning-a-view-versus-a-copy\n",
      "  survey_sub['wave_end'] = pd.to_datetime(survey_sub['welle'].map(wave_map))\n"
     ]
    }
   ],
   "source": [
    "survey_sub['wave_end'] = pd.to_datetime(survey_sub['welle'].map(wave_map))"
   ]
  },
  {
   "cell_type": "code",
   "execution_count": 10,
   "metadata": {
    "pycharm": {
     "is_executing": true
    }
   },
   "outputs": [],
   "source": [
    "survey_sub = survey_sub.set_index('wave_end')\n",
    "#survey_sub = survey_sub.drop(['welle'], axis=1)"
   ]
  },
  {
   "cell_type": "markdown",
   "metadata": {},
   "source": [
    "Load and analyze postings dataset:"
   ]
  },
  {
   "cell_type": "code",
   "execution_count": 81,
   "metadata": {
    "pycharm": {
     "is_executing": true
    }
   },
   "outputs": [
    {
     "data": {
      "text/html": [
       "<div>\n",
       "<style scoped>\n",
       "    .dataframe tbody tr th:only-of-type {\n",
       "        vertical-align: middle;\n",
       "    }\n",
       "\n",
       "    .dataframe tbody tr th {\n",
       "        vertical-align: top;\n",
       "    }\n",
       "\n",
       "    .dataframe thead th {\n",
       "        text-align: right;\n",
       "    }\n",
       "</style>\n",
       "<table border=\"1\" class=\"dataframe\">\n",
       "  <thead>\n",
       "    <tr style=\"text-align: right;\">\n",
       "      <th></th>\n",
       "      <th>oid</th>\n",
       "      <th>pid</th>\n",
       "      <th>cd</th>\n",
       "      <th>vp</th>\n",
       "      <th>vn</th>\n",
       "      <th>allText</th>\n",
       "      <th>18</th>\n",
       "      <th>number_tokens</th>\n",
       "    </tr>\n",
       "  </thead>\n",
       "  <tbody>\n",
       "    <tr>\n",
       "      <th>0</th>\n",
       "      <td>2000122865130</td>\n",
       "      <td>1064710786</td>\n",
       "      <td>2020-12-31 20:04:57.643000+01:00</td>\n",
       "      <td>4</td>\n",
       "      <td>0</td>\n",
       "      <td>Herr Bundespräsidentnach Artikel 70 B-VG könne...</td>\n",
       "      <td>0</td>\n",
       "      <td>28</td>\n",
       "    </tr>\n",
       "    <tr>\n",
       "      <th>1</th>\n",
       "      <td>2000122865130</td>\n",
       "      <td>1064724063</td>\n",
       "      <td>2021-01-01 06:00:14.350000+01:00</td>\n",
       "      <td>2</td>\n",
       "      <td>0</td>\n",
       "      <td>Der Flash wird noch eine weitere Amtszeit dafü...</td>\n",
       "      <td>0</td>\n",
       "      <td>9</td>\n",
       "    </tr>\n",
       "    <tr>\n",
       "      <th>2</th>\n",
       "      <td>2000122865130</td>\n",
       "      <td>1064712838</td>\n",
       "      <td>2020-12-31 20:57:02.017000+01:00</td>\n",
       "      <td>2</td>\n",
       "      <td>0</td>\n",
       "      <td>Das ist wahrscheinlich sogar unserem HBP zu pe...</td>\n",
       "      <td>0</td>\n",
       "      <td>8</td>\n",
       "    </tr>\n",
       "    <tr>\n",
       "      <th>3</th>\n",
       "      <td>2000122865130</td>\n",
       "      <td>1064708391</td>\n",
       "      <td>2020-12-31 19:09:04.760000+01:00</td>\n",
       "      <td>3</td>\n",
       "      <td>0</td>\n",
       "      <td>Ausnahmegesetze für unseren Ausnahmenkanzler ...</td>\n",
       "      <td>0</td>\n",
       "      <td>4</td>\n",
       "    </tr>\n",
       "    <tr>\n",
       "      <th>4</th>\n",
       "      <td>2000122865130</td>\n",
       "      <td>1064707195</td>\n",
       "      <td>2020-12-31 18:43:57.973000+01:00</td>\n",
       "      <td>3</td>\n",
       "      <td>0</td>\n",
       "      <td>Anschober will...Anschober kann aber nicht.</td>\n",
       "      <td>0</td>\n",
       "      <td>5</td>\n",
       "    </tr>\n",
       "  </tbody>\n",
       "</table>\n",
       "</div>"
      ],
      "text/plain": [
       "             oid         pid                                cd  vp  vn  \\\n",
       "0  2000122865130  1064710786  2020-12-31 20:04:57.643000+01:00   4   0   \n",
       "1  2000122865130  1064724063  2021-01-01 06:00:14.350000+01:00   2   0   \n",
       "2  2000122865130  1064712838  2020-12-31 20:57:02.017000+01:00   2   0   \n",
       "3  2000122865130  1064708391  2020-12-31 19:09:04.760000+01:00   3   0   \n",
       "4  2000122865130  1064707195  2020-12-31 18:43:57.973000+01:00   3   0   \n",
       "\n",
       "                                             allText  18  number_tokens  \n",
       "0  Herr Bundespräsidentnach Artikel 70 B-VG könne...   0             28  \n",
       "1  Der Flash wird noch eine weitere Amtszeit dafü...   0              9  \n",
       "2  Das ist wahrscheinlich sogar unserem HBP zu pe...   0              8  \n",
       "3   Ausnahmegesetze für unseren Ausnahmenkanzler ...   0              4  \n",
       "4        Anschober will...Anschober kann aber nicht.   0              5  "
      ]
     },
     "execution_count": 81,
     "metadata": {},
     "output_type": "execute_result"
    }
   ],
   "source": [
    "cols_to_drop = ['rid', 'ppid', 'o', 'hl', 'tx', 'cn', '13', '16', '17', '19', '31', '200', 'pid_liwc']\n",
    "postings = pd.read_pickle(input_postings).drop(cols_to_drop, axis=1)\n",
    "postings.head()"
   ]
  },
  {
   "cell_type": "code",
   "execution_count": 83,
   "metadata": {
    "pycharm": {
     "is_executing": true
    }
   },
   "outputs": [],
   "source": [
    "postings.index = pd.to_datetime(postings.cd, utc=True)"
   ]
  },
  {
   "cell_type": "code",
   "execution_count": 84,
   "metadata": {
    "pycharm": {
     "is_executing": true
    }
   },
   "outputs": [],
   "source": [
    "postings['anger'] = postings['18']/postings['number_tokens']"
   ]
  },
  {
   "cell_type": "code",
   "execution_count": 32,
   "metadata": {
    "pycharm": {
     "is_executing": true
    }
   },
   "outputs": [
    {
     "data": {
      "text/html": [
       "<div>\n",
       "<style scoped>\n",
       "    .dataframe tbody tr th:only-of-type {\n",
       "        vertical-align: middle;\n",
       "    }\n",
       "\n",
       "    .dataframe tbody tr th {\n",
       "        vertical-align: top;\n",
       "    }\n",
       "\n",
       "    .dataframe thead th {\n",
       "        text-align: right;\n",
       "    }\n",
       "</style>\n",
       "<table border=\"1\" class=\"dataframe\">\n",
       "  <thead>\n",
       "    <tr style=\"text-align: right;\">\n",
       "      <th></th>\n",
       "      <th>oid</th>\n",
       "      <th>pid</th>\n",
       "      <th>cd</th>\n",
       "      <th>vp</th>\n",
       "      <th>vn</th>\n",
       "      <th>allText</th>\n",
       "      <th>18</th>\n",
       "      <th>number_tokens</th>\n",
       "      <th>anger</th>\n",
       "    </tr>\n",
       "    <tr>\n",
       "      <th>cd</th>\n",
       "      <th></th>\n",
       "      <th></th>\n",
       "      <th></th>\n",
       "      <th></th>\n",
       "      <th></th>\n",
       "      <th></th>\n",
       "      <th></th>\n",
       "      <th></th>\n",
       "      <th></th>\n",
       "    </tr>\n",
       "  </thead>\n",
       "  <tbody>\n",
       "    <tr>\n",
       "      <th>2020-12-31 19:04:57.643000+00:00</th>\n",
       "      <td>2000122865130</td>\n",
       "      <td>1064710786</td>\n",
       "      <td>2020-12-31 20:04:57.643000+01:00</td>\n",
       "      <td>4</td>\n",
       "      <td>0</td>\n",
       "      <td>Herr Bundespräsidentnach Artikel 70 B-VG könne...</td>\n",
       "      <td>0</td>\n",
       "      <td>28</td>\n",
       "      <td>0.0</td>\n",
       "    </tr>\n",
       "    <tr>\n",
       "      <th>2021-01-01 05:00:14.350000+00:00</th>\n",
       "      <td>2000122865130</td>\n",
       "      <td>1064724063</td>\n",
       "      <td>2021-01-01 06:00:14.350000+01:00</td>\n",
       "      <td>2</td>\n",
       "      <td>0</td>\n",
       "      <td>Der Flash wird noch eine weitere Amtszeit dafü...</td>\n",
       "      <td>0</td>\n",
       "      <td>9</td>\n",
       "      <td>0.0</td>\n",
       "    </tr>\n",
       "    <tr>\n",
       "      <th>2020-12-31 19:57:02.017000+00:00</th>\n",
       "      <td>2000122865130</td>\n",
       "      <td>1064712838</td>\n",
       "      <td>2020-12-31 20:57:02.017000+01:00</td>\n",
       "      <td>2</td>\n",
       "      <td>0</td>\n",
       "      <td>Das ist wahrscheinlich sogar unserem HBP zu pe...</td>\n",
       "      <td>0</td>\n",
       "      <td>8</td>\n",
       "      <td>0.0</td>\n",
       "    </tr>\n",
       "    <tr>\n",
       "      <th>2020-12-31 18:09:04.760000+00:00</th>\n",
       "      <td>2000122865130</td>\n",
       "      <td>1064708391</td>\n",
       "      <td>2020-12-31 19:09:04.760000+01:00</td>\n",
       "      <td>3</td>\n",
       "      <td>0</td>\n",
       "      <td>Ausnahmegesetze für unseren Ausnahmenkanzler ...</td>\n",
       "      <td>0</td>\n",
       "      <td>4</td>\n",
       "      <td>0.0</td>\n",
       "    </tr>\n",
       "    <tr>\n",
       "      <th>2020-12-31 17:43:57.973000+00:00</th>\n",
       "      <td>2000122865130</td>\n",
       "      <td>1064707195</td>\n",
       "      <td>2020-12-31 18:43:57.973000+01:00</td>\n",
       "      <td>3</td>\n",
       "      <td>0</td>\n",
       "      <td>Anschober will...Anschober kann aber nicht.</td>\n",
       "      <td>0</td>\n",
       "      <td>5</td>\n",
       "      <td>0.0</td>\n",
       "    </tr>\n",
       "  </tbody>\n",
       "</table>\n",
       "</div>"
      ],
      "text/plain": [
       "                                            oid         pid  \\\n",
       "cd                                                            \n",
       "2020-12-31 19:04:57.643000+00:00  2000122865130  1064710786   \n",
       "2021-01-01 05:00:14.350000+00:00  2000122865130  1064724063   \n",
       "2020-12-31 19:57:02.017000+00:00  2000122865130  1064712838   \n",
       "2020-12-31 18:09:04.760000+00:00  2000122865130  1064708391   \n",
       "2020-12-31 17:43:57.973000+00:00  2000122865130  1064707195   \n",
       "\n",
       "                                                                cd  vp  vn  \\\n",
       "cd                                                                           \n",
       "2020-12-31 19:04:57.643000+00:00  2020-12-31 20:04:57.643000+01:00   4   0   \n",
       "2021-01-01 05:00:14.350000+00:00  2021-01-01 06:00:14.350000+01:00   2   0   \n",
       "2020-12-31 19:57:02.017000+00:00  2020-12-31 20:57:02.017000+01:00   2   0   \n",
       "2020-12-31 18:09:04.760000+00:00  2020-12-31 19:09:04.760000+01:00   3   0   \n",
       "2020-12-31 17:43:57.973000+00:00  2020-12-31 18:43:57.973000+01:00   3   0   \n",
       "\n",
       "                                                                            allText  \\\n",
       "cd                                                                                    \n",
       "2020-12-31 19:04:57.643000+00:00  Herr Bundespräsidentnach Artikel 70 B-VG könne...   \n",
       "2021-01-01 05:00:14.350000+00:00  Der Flash wird noch eine weitere Amtszeit dafü...   \n",
       "2020-12-31 19:57:02.017000+00:00  Das ist wahrscheinlich sogar unserem HBP zu pe...   \n",
       "2020-12-31 18:09:04.760000+00:00   Ausnahmegesetze für unseren Ausnahmenkanzler ...   \n",
       "2020-12-31 17:43:57.973000+00:00        Anschober will...Anschober kann aber nicht.   \n",
       "\n",
       "                                  18  number_tokens  anger  \n",
       "cd                                                          \n",
       "2020-12-31 19:04:57.643000+00:00   0             28    0.0  \n",
       "2021-01-01 05:00:14.350000+00:00   0              9    0.0  \n",
       "2020-12-31 19:57:02.017000+00:00   0              8    0.0  \n",
       "2020-12-31 18:09:04.760000+00:00   0              4    0.0  \n",
       "2020-12-31 17:43:57.973000+00:00   0              5    0.0  "
      ]
     },
     "execution_count": 32,
     "metadata": {},
     "output_type": "execute_result"
    }
   ],
   "source": [
    "postings.head()"
   ]
  },
  {
   "cell_type": "code",
   "execution_count": 33,
   "metadata": {
    "pycharm": {
     "is_executing": true
    },
    "scrolled": true
   },
   "outputs": [
    {
     "data": {
      "text/plain": [
       "<AxesSubplot:>"
      ]
     },
     "execution_count": 33,
     "metadata": {},
     "output_type": "execute_result"
    },
    {
     "data": {
      "image/png": "[encoded data removed]",
      "text/plain": [
       "<Figure size 432x288 with 1 Axes>"
      ]
     },
     "metadata": {
      "needs_background": "light"
     },
     "output_type": "display_data"
    }
   ],
   "source": [
    "postings['anger'].hist()"
   ]
  },
  {
   "cell_type": "code",
   "execution_count": 85,
   "metadata": {
    "pycharm": {
     "is_executing": true
    }
   },
   "outputs": [
    {
     "data": {
      "text/html": [
       "<div>\n",
       "<style scoped>\n",
       "    .dataframe tbody tr th:only-of-type {\n",
       "        vertical-align: middle;\n",
       "    }\n",
       "\n",
       "    .dataframe tbody tr th {\n",
       "        vertical-align: top;\n",
       "    }\n",
       "\n",
       "    .dataframe thead th {\n",
       "        text-align: right;\n",
       "    }\n",
       "</style>\n",
       "<table border=\"1\" class=\"dataframe\">\n",
       "  <thead>\n",
       "    <tr style=\"text-align: right;\">\n",
       "      <th></th>\n",
       "      <th>postid</th>\n",
       "      <th>parentid</th>\n",
       "      <th>communityidentityid</th>\n",
       "      <th>communityname</th>\n",
       "      <th>timestamp</th>\n",
       "      <th>followers</th>\n",
       "      <th>ratings_pos</th>\n",
       "      <th>ratings_neg</th>\n",
       "      <th>fullText</th>\n",
       "      <th>13</th>\n",
       "      <th>16</th>\n",
       "      <th>17</th>\n",
       "      <th>18</th>\n",
       "      <th>19</th>\n",
       "      <th>31</th>\n",
       "      <th>200</th>\n",
       "      <th>number_tokens</th>\n",
       "    </tr>\n",
       "    <tr>\n",
       "      <th>timestamp</th>\n",
       "      <th></th>\n",
       "      <th></th>\n",
       "      <th></th>\n",
       "      <th></th>\n",
       "      <th></th>\n",
       "      <th></th>\n",
       "      <th></th>\n",
       "      <th></th>\n",
       "      <th></th>\n",
       "      <th></th>\n",
       "      <th></th>\n",
       "      <th></th>\n",
       "      <th></th>\n",
       "      <th></th>\n",
       "      <th></th>\n",
       "      <th></th>\n",
       "      <th></th>\n",
       "    </tr>\n",
       "  </thead>\n",
       "  <tbody>\n",
       "    <tr>\n",
       "      <th>2021-01-11 21:13:29+00:00</th>\n",
       "      <td>1065338274</td>\n",
       "      <td>1.064871e+09</td>\n",
       "      <td>748531.0</td>\n",
       "      <td>ThomasSV</td>\n",
       "      <td>1610399609</td>\n",
       "      <td>0.0</td>\n",
       "      <td>0</td>\n",
       "      <td>0</td>\n",
       "      <td>Sehe ich nicht... Wenn man das in einen TV Spl...</td>\n",
       "      <td>1</td>\n",
       "      <td>0</td>\n",
       "      <td>0</td>\n",
       "      <td>0</td>\n",
       "      <td>0</td>\n",
       "      <td>1</td>\n",
       "      <td>0</td>\n",
       "      <td>51</td>\n",
       "    </tr>\n",
       "    <tr>\n",
       "      <th>2021-01-11 21:18:30+00:00</th>\n",
       "      <td>1065338499</td>\n",
       "      <td>1.064888e+09</td>\n",
       "      <td>748531.0</td>\n",
       "      <td>ThomasSV</td>\n",
       "      <td>1610399910</td>\n",
       "      <td>0.0</td>\n",
       "      <td>0</td>\n",
       "      <td>0</td>\n",
       "      <td>Es steht Ihnen frei, Politiker zu werden und a...</td>\n",
       "      <td>2</td>\n",
       "      <td>1</td>\n",
       "      <td>0</td>\n",
       "      <td>0</td>\n",
       "      <td>0</td>\n",
       "      <td>2</td>\n",
       "      <td>0</td>\n",
       "      <td>24</td>\n",
       "    </tr>\n",
       "    <tr>\n",
       "      <th>2021-01-11 21:22:40+00:00</th>\n",
       "      <td>1065338708</td>\n",
       "      <td>1.064853e+09</td>\n",
       "      <td>748531.0</td>\n",
       "      <td>ThomasSV</td>\n",
       "      <td>1610400160</td>\n",
       "      <td>0.0</td>\n",
       "      <td>0</td>\n",
       "      <td>0</td>\n",
       "      <td>Die Lösung ist schon lange bekannt ;)https://w...</td>\n",
       "      <td>0</td>\n",
       "      <td>0</td>\n",
       "      <td>0</td>\n",
       "      <td>0</td>\n",
       "      <td>0</td>\n",
       "      <td>0</td>\n",
       "      <td>0</td>\n",
       "      <td>7</td>\n",
       "    </tr>\n",
       "    <tr>\n",
       "      <th>2021-01-11 21:35:02+00:00</th>\n",
       "      <td>1065339290</td>\n",
       "      <td>1.063851e+09</td>\n",
       "      <td>567219.0</td>\n",
       "      <td>lupos</td>\n",
       "      <td>1610400902</td>\n",
       "      <td>1.0</td>\n",
       "      <td>0</td>\n",
       "      <td>0</td>\n",
       "      <td>Konsum von Alkohol in Liter 2016RUS: 20,1 AUT:...</td>\n",
       "      <td>0</td>\n",
       "      <td>0</td>\n",
       "      <td>0</td>\n",
       "      <td>0</td>\n",
       "      <td>0</td>\n",
       "      <td>0</td>\n",
       "      <td>0</td>\n",
       "      <td>10</td>\n",
       "    </tr>\n",
       "    <tr>\n",
       "      <th>2021-01-11 22:50:27+00:00</th>\n",
       "      <td>1065342095</td>\n",
       "      <td>1.065338e+09</td>\n",
       "      <td>209091.0</td>\n",
       "      <td>StefVienna</td>\n",
       "      <td>1610405427</td>\n",
       "      <td>8.0</td>\n",
       "      <td>0</td>\n",
       "      <td>0</td>\n",
       "      <td>Sie bestreiten also generell, daß hier ordentl...</td>\n",
       "      <td>0</td>\n",
       "      <td>1</td>\n",
       "      <td>0</td>\n",
       "      <td>1</td>\n",
       "      <td>0</td>\n",
       "      <td>2</td>\n",
       "      <td>0</td>\n",
       "      <td>19</td>\n",
       "    </tr>\n",
       "  </tbody>\n",
       "</table>\n",
       "</div>"
      ],
      "text/plain": [
       "                               postid      parentid  communityidentityid  \\\n",
       "timestamp                                                                  \n",
       "2021-01-11 21:13:29+00:00  1065338274  1.064871e+09             748531.0   \n",
       "2021-01-11 21:18:30+00:00  1065338499  1.064888e+09             748531.0   \n",
       "2021-01-11 21:22:40+00:00  1065338708  1.064853e+09             748531.0   \n",
       "2021-01-11 21:35:02+00:00  1065339290  1.063851e+09             567219.0   \n",
       "2021-01-11 22:50:27+00:00  1065342095  1.065338e+09             209091.0   \n",
       "\n",
       "                          communityname   timestamp  followers  ratings_pos  \\\n",
       "timestamp                                                                     \n",
       "2021-01-11 21:13:29+00:00      ThomasSV  1610399609        0.0            0   \n",
       "2021-01-11 21:18:30+00:00      ThomasSV  1610399910        0.0            0   \n",
       "2021-01-11 21:22:40+00:00      ThomasSV  1610400160        0.0            0   \n",
       "2021-01-11 21:35:02+00:00         lupos  1610400902        1.0            0   \n",
       "2021-01-11 22:50:27+00:00    StefVienna  1610405427        8.0            0   \n",
       "\n",
       "                           ratings_neg  \\\n",
       "timestamp                                \n",
       "2021-01-11 21:13:29+00:00            0   \n",
       "2021-01-11 21:18:30+00:00            0   \n",
       "2021-01-11 21:22:40+00:00            0   \n",
       "2021-01-11 21:35:02+00:00            0   \n",
       "2021-01-11 22:50:27+00:00            0   \n",
       "\n",
       "                                                                    fullText  \\\n",
       "timestamp                                                                      \n",
       "2021-01-11 21:13:29+00:00  Sehe ich nicht... Wenn man das in einen TV Spl...   \n",
       "2021-01-11 21:18:30+00:00  Es steht Ihnen frei, Politiker zu werden und a...   \n",
       "2021-01-11 21:22:40+00:00  Die Lösung ist schon lange bekannt ;)https://w...   \n",
       "2021-01-11 21:35:02+00:00  Konsum von Alkohol in Liter 2016RUS: 20,1 AUT:...   \n",
       "2021-01-11 22:50:27+00:00  Sie bestreiten also generell, daß hier ordentl...   \n",
       "\n",
       "                           13  16  17  18  19  31  200  number_tokens  \n",
       "timestamp                                                              \n",
       "2021-01-11 21:13:29+00:00   1   0   0   0   0   1    0             51  \n",
       "2021-01-11 21:18:30+00:00   2   1   0   0   0   2    0             24  \n",
       "2021-01-11 21:22:40+00:00   0   0   0   0   0   0    0              7  \n",
       "2021-01-11 21:35:02+00:00   0   0   0   0   0   0    0             10  \n",
       "2021-01-11 22:50:27+00:00   0   1   0   1   0   2    0             19  "
      ]
     },
     "execution_count": 85,
     "metadata": {},
     "output_type": "execute_result"
    }
   ],
   "source": [
    "postings_summer_gap = pd.read_pickle(input_summer_gap).sort_index()\n",
    "postings_summer_gap.index = pd.to_datetime(postings_summer_gap.index, utc=True)\n",
    "postings_summer_gap.tail()"
   ]
  },
  {
   "cell_type": "code",
   "execution_count": 94,
   "metadata": {
    "pycharm": {
     "is_executing": true
    }
   },
   "outputs": [],
   "source": [
    "postings_summer_gap['anger2'] = postings_summer_gap['18'] / postings_summer_gap['number_tokens']"
   ]
  },
  {
   "cell_type": "code",
   "execution_count": 66,
   "metadata": {},
   "outputs": [
    {
     "name": "stdout",
     "output_type": "stream",
     "text": [
      "(9214323, 1)\n",
      "(1366347, 1)\n"
     ]
    }
   ],
   "source": [
    "p1 = pd.DataFrame(postings['anger'])\n",
    "p1.index = postings['pid']\n",
    "\n",
    "p2 = pd.DataFrame(postings_summer_gap['anger'])\n",
    "p2.index = postings_summer_gap['postid']\n",
    "print(p1.shape)\n",
    "print(p2.shape)"
   ]
  },
  {
   "cell_type": "code",
   "execution_count": 72,
   "metadata": {},
   "outputs": [
    {
     "name": "stderr",
     "output_type": "stream",
     "text": [
      "<ipython-input-72-fa5ea95781e2>:1: DeprecationWarning: The default dtype for empty Series will be 'object' instead of 'float64' in a future version. Specify a dtype explicitly to silence this warning.\n",
      "  pd.Series(list(set(postings['pid']) & set(postings_summer_gap['postid'])))\n"
     ]
    },
    {
     "data": {
      "text/plain": [
       "Series([], dtype: float64)"
      ]
     },
     "execution_count": 72,
     "metadata": {},
     "output_type": "execute_result"
    }
   ],
   "source": [
    "pd.Series(list(set(postings['pid']) & set(postings_summer_gap['postid'])))"
   ]
  },
  {
   "cell_type": "code",
   "execution_count": 96,
   "metadata": {},
   "outputs": [],
   "source": [
    "combined = pd.concat([postings['anger'].resample('1d').sum(), postings_summer_gap['anger2'].resample('1d').sum()], axis=1)\n",
    "combined['anger_total'] = combined['anger'].fillna(0) + combined['anger2'].fillna(0)"
   ]
  },
  {
   "cell_type": "code",
   "execution_count": 97,
   "metadata": {},
   "outputs": [
    {
     "data": {
      "text/html": [
       "<div>\n",
       "<style scoped>\n",
       "    .dataframe tbody tr th:only-of-type {\n",
       "        vertical-align: middle;\n",
       "    }\n",
       "\n",
       "    .dataframe tbody tr th {\n",
       "        vertical-align: top;\n",
       "    }\n",
       "\n",
       "    .dataframe thead th {\n",
       "        text-align: right;\n",
       "    }\n",
       "</style>\n",
       "<table border=\"1\" class=\"dataframe\">\n",
       "  <thead>\n",
       "    <tr style=\"text-align: right;\">\n",
       "      <th></th>\n",
       "      <th>anger</th>\n",
       "      <th>anger2</th>\n",
       "      <th>anger_total</th>\n",
       "    </tr>\n",
       "  </thead>\n",
       "  <tbody>\n",
       "    <tr>\n",
       "      <th>2020-01-20 00:00:00+00:00</th>\n",
       "      <td>NaN</td>\n",
       "      <td>0.809049</td>\n",
       "      <td>0.809049</td>\n",
       "    </tr>\n",
       "    <tr>\n",
       "      <th>2020-01-21 00:00:00+00:00</th>\n",
       "      <td>NaN</td>\n",
       "      <td>0.278864</td>\n",
       "      <td>0.278864</td>\n",
       "    </tr>\n",
       "    <tr>\n",
       "      <th>2020-01-22 00:00:00+00:00</th>\n",
       "      <td>NaN</td>\n",
       "      <td>0.074917</td>\n",
       "      <td>0.074917</td>\n",
       "    </tr>\n",
       "    <tr>\n",
       "      <th>2020-01-23 00:00:00+00:00</th>\n",
       "      <td>NaN</td>\n",
       "      <td>0.944649</td>\n",
       "      <td>0.944649</td>\n",
       "    </tr>\n",
       "    <tr>\n",
       "      <th>2020-01-24 00:00:00+00:00</th>\n",
       "      <td>NaN</td>\n",
       "      <td>1.288482</td>\n",
       "      <td>1.288482</td>\n",
       "    </tr>\n",
       "    <tr>\n",
       "      <th>...</th>\n",
       "      <td>...</td>\n",
       "      <td>...</td>\n",
       "      <td>...</td>\n",
       "    </tr>\n",
       "    <tr>\n",
       "      <th>2021-01-23 00:00:00+00:00</th>\n",
       "      <td>125.033905</td>\n",
       "      <td>NaN</td>\n",
       "      <td>125.033905</td>\n",
       "    </tr>\n",
       "    <tr>\n",
       "      <th>2021-01-24 00:00:00+00:00</th>\n",
       "      <td>124.058009</td>\n",
       "      <td>NaN</td>\n",
       "      <td>124.058009</td>\n",
       "    </tr>\n",
       "    <tr>\n",
       "      <th>2021-01-25 00:00:00+00:00</th>\n",
       "      <td>2.858739</td>\n",
       "      <td>NaN</td>\n",
       "      <td>2.858739</td>\n",
       "    </tr>\n",
       "    <tr>\n",
       "      <th>2021-01-26 00:00:00+00:00</th>\n",
       "      <td>0.000000</td>\n",
       "      <td>NaN</td>\n",
       "      <td>0.000000</td>\n",
       "    </tr>\n",
       "    <tr>\n",
       "      <th>2021-01-27 00:00:00+00:00</th>\n",
       "      <td>0.000000</td>\n",
       "      <td>NaN</td>\n",
       "      <td>0.000000</td>\n",
       "    </tr>\n",
       "  </tbody>\n",
       "</table>\n",
       "<p>374 rows × 3 columns</p>\n",
       "</div>"
      ],
      "text/plain": [
       "                                anger    anger2  anger_total\n",
       "2020-01-20 00:00:00+00:00         NaN  0.809049     0.809049\n",
       "2020-01-21 00:00:00+00:00         NaN  0.278864     0.278864\n",
       "2020-01-22 00:00:00+00:00         NaN  0.074917     0.074917\n",
       "2020-01-23 00:00:00+00:00         NaN  0.944649     0.944649\n",
       "2020-01-24 00:00:00+00:00         NaN  1.288482     1.288482\n",
       "...                               ...       ...          ...\n",
       "2021-01-23 00:00:00+00:00  125.033905       NaN   125.033905\n",
       "2021-01-24 00:00:00+00:00  124.058009       NaN   124.058009\n",
       "2021-01-25 00:00:00+00:00    2.858739       NaN     2.858739\n",
       "2021-01-26 00:00:00+00:00    0.000000       NaN     0.000000\n",
       "2021-01-27 00:00:00+00:00    0.000000       NaN     0.000000\n",
       "\n",
       "[374 rows x 3 columns]"
      ]
     },
     "execution_count": 97,
     "metadata": {},
     "output_type": "execute_result"
    }
   ],
   "source": [
    "combined"
   ]
  },
  {
   "cell_type": "code",
   "execution_count": null,
   "metadata": {},
   "outputs": [],
   "source": []
  },
  {
   "cell_type": "code",
   "execution_count": 18,
   "metadata": {
    "pycharm": {
     "is_executing": true
    }
   },
   "outputs": [
    {
     "data": {
      "text/html": [
       "<div>\n",
       "<style scoped>\n",
       "    .dataframe tbody tr th:only-of-type {\n",
       "        vertical-align: middle;\n",
       "    }\n",
       "\n",
       "    .dataframe tbody tr th {\n",
       "        vertical-align: top;\n",
       "    }\n",
       "\n",
       "    .dataframe thead th {\n",
       "        text-align: right;\n",
       "    }\n",
       "</style>\n",
       "<table border=\"1\" class=\"dataframe\">\n",
       "  <thead>\n",
       "    <tr style=\"text-align: right;\">\n",
       "      <th></th>\n",
       "      <th>welle</th>\n",
       "      <th>co05_01</th>\n",
       "      <th>co06_01</th>\n",
       "      <th>co06_02</th>\n",
       "      <th>co06_03</th>\n",
       "      <th>co06_04</th>\n",
       "      <th>co06_05</th>\n",
       "      <th>co06_06</th>\n",
       "      <th>co08_01</th>\n",
       "      <th>co19_01</th>\n",
       "      <th>baseline_diff_05</th>\n",
       "      <th>baseline_diff_06_1</th>\n",
       "      <th>baseline_diff_06_2</th>\n",
       "      <th>baseline_diff_06_3</th>\n",
       "      <th>baseline_diff_06_4</th>\n",
       "      <th>baseline_diff_06_5</th>\n",
       "      <th>baseline_diff_06_6</th>\n",
       "      <th>baseline_diff_08</th>\n",
       "      <th>baseline_diff_19</th>\n",
       "    </tr>\n",
       "    <tr>\n",
       "      <th>wave_end</th>\n",
       "      <th></th>\n",
       "      <th></th>\n",
       "      <th></th>\n",
       "      <th></th>\n",
       "      <th></th>\n",
       "      <th></th>\n",
       "      <th></th>\n",
       "      <th></th>\n",
       "      <th></th>\n",
       "      <th></th>\n",
       "      <th></th>\n",
       "      <th></th>\n",
       "      <th></th>\n",
       "      <th></th>\n",
       "      <th></th>\n",
       "      <th></th>\n",
       "      <th></th>\n",
       "      <th></th>\n",
       "      <th></th>\n",
       "    </tr>\n",
       "  </thead>\n",
       "  <tbody>\n",
       "    <tr>\n",
       "      <th>2020-05-05</th>\n",
       "      <td>1.0</td>\n",
       "      <td>1.639361</td>\n",
       "      <td>2.182817</td>\n",
       "      <td>1.422577</td>\n",
       "      <td>0.564436</td>\n",
       "      <td>2.892108</td>\n",
       "      <td>2.083916</td>\n",
       "      <td>2.154845</td>\n",
       "      <td>2.535465</td>\n",
       "      <td>NaN</td>\n",
       "      <td>0.000000</td>\n",
       "      <td>0.000000</td>\n",
       "      <td>0.000000</td>\n",
       "      <td>0.000000</td>\n",
       "      <td>0.000000</td>\n",
       "      <td>0.000000</td>\n",
       "      <td>0.000000</td>\n",
       "      <td>0.000000</td>\n",
       "      <td>NaN</td>\n",
       "    </tr>\n",
       "    <tr>\n",
       "      <th>2020-05-28</th>\n",
       "      <td>2.0</td>\n",
       "      <td>1.612935</td>\n",
       "      <td>1.900498</td>\n",
       "      <td>1.254726</td>\n",
       "      <td>0.735323</td>\n",
       "      <td>2.503483</td>\n",
       "      <td>2.010945</td>\n",
       "      <td>1.963184</td>\n",
       "      <td>2.532338</td>\n",
       "      <td>NaN</td>\n",
       "      <td>-0.016119</td>\n",
       "      <td>-0.129337</td>\n",
       "      <td>-0.117991</td>\n",
       "      <td>0.302759</td>\n",
       "      <td>-0.134374</td>\n",
       "      <td>-0.035016</td>\n",
       "      <td>-0.088944</td>\n",
       "      <td>-0.001233</td>\n",
       "      <td>NaN</td>\n",
       "    </tr>\n",
       "    <tr>\n",
       "      <th>2020-06-17</th>\n",
       "      <td>3.0</td>\n",
       "      <td>1.617383</td>\n",
       "      <td>1.651349</td>\n",
       "      <td>1.199800</td>\n",
       "      <td>0.615385</td>\n",
       "      <td>2.144855</td>\n",
       "      <td>1.996004</td>\n",
       "      <td>1.879121</td>\n",
       "      <td>2.480519</td>\n",
       "      <td>NaN</td>\n",
       "      <td>-0.013406</td>\n",
       "      <td>-0.243478</td>\n",
       "      <td>-0.156601</td>\n",
       "      <td>0.090265</td>\n",
       "      <td>-0.258377</td>\n",
       "      <td>-0.042186</td>\n",
       "      <td>-0.127955</td>\n",
       "      <td>-0.021671</td>\n",
       "      <td>NaN</td>\n",
       "    </tr>\n",
       "    <tr>\n",
       "      <th>2020-07-08</th>\n",
       "      <td>4.0</td>\n",
       "      <td>2.043000</td>\n",
       "      <td>1.475000</td>\n",
       "      <td>1.064000</td>\n",
       "      <td>0.488000</td>\n",
       "      <td>1.916000</td>\n",
       "      <td>1.864000</td>\n",
       "      <td>1.628000</td>\n",
       "      <td>2.410000</td>\n",
       "      <td>NaN</td>\n",
       "      <td>0.246218</td>\n",
       "      <td>-0.324268</td>\n",
       "      <td>-0.252062</td>\n",
       "      <td>-0.135419</td>\n",
       "      <td>-0.337507</td>\n",
       "      <td>-0.105530</td>\n",
       "      <td>-0.244493</td>\n",
       "      <td>-0.049484</td>\n",
       "      <td>NaN</td>\n",
       "    </tr>\n",
       "    <tr>\n",
       "      <th>2020-07-30</th>\n",
       "      <td>5.0</td>\n",
       "      <td>2.285000</td>\n",
       "      <td>1.442000</td>\n",
       "      <td>1.057000</td>\n",
       "      <td>0.344000</td>\n",
       "      <td>1.871000</td>\n",
       "      <td>1.811000</td>\n",
       "      <td>1.709000</td>\n",
       "      <td>2.358000</td>\n",
       "      <td>NaN</td>\n",
       "      <td>0.393836</td>\n",
       "      <td>-0.339386</td>\n",
       "      <td>-0.256982</td>\n",
       "      <td>-0.390542</td>\n",
       "      <td>-0.353067</td>\n",
       "      <td>-0.130963</td>\n",
       "      <td>-0.206904</td>\n",
       "      <td>-0.069993</td>\n",
       "      <td>NaN</td>\n",
       "    </tr>\n",
       "    <tr>\n",
       "      <th>2020-08-22</th>\n",
       "      <td>6.0</td>\n",
       "      <td>2.093812</td>\n",
       "      <td>1.503992</td>\n",
       "      <td>1.081836</td>\n",
       "      <td>0.394212</td>\n",
       "      <td>1.885230</td>\n",
       "      <td>1.860279</td>\n",
       "      <td>1.838323</td>\n",
       "      <td>2.337325</td>\n",
       "      <td>NaN</td>\n",
       "      <td>0.277213</td>\n",
       "      <td>-0.310986</td>\n",
       "      <td>-0.239524</td>\n",
       "      <td>-0.301583</td>\n",
       "      <td>-0.348147</td>\n",
       "      <td>-0.107316</td>\n",
       "      <td>-0.146888</td>\n",
       "      <td>-0.078147</td>\n",
       "      <td>NaN</td>\n",
       "    </tr>\n",
       "    <tr>\n",
       "      <th>2020-09-14</th>\n",
       "      <td>7.0</td>\n",
       "      <td>2.126747</td>\n",
       "      <td>1.421158</td>\n",
       "      <td>1.055888</td>\n",
       "      <td>0.408184</td>\n",
       "      <td>1.867265</td>\n",
       "      <td>1.892216</td>\n",
       "      <td>1.811377</td>\n",
       "      <td>2.393214</td>\n",
       "      <td>NaN</td>\n",
       "      <td>0.297302</td>\n",
       "      <td>-0.348934</td>\n",
       "      <td>-0.257764</td>\n",
       "      <td>-0.276829</td>\n",
       "      <td>-0.354358</td>\n",
       "      <td>-0.091991</td>\n",
       "      <td>-0.159393</td>\n",
       "      <td>-0.056104</td>\n",
       "      <td>NaN</td>\n",
       "    </tr>\n",
       "    <tr>\n",
       "      <th>2020-09-29</th>\n",
       "      <td>8.0</td>\n",
       "      <td>2.158000</td>\n",
       "      <td>1.553000</td>\n",
       "      <td>1.109000</td>\n",
       "      <td>0.426000</td>\n",
       "      <td>2.028000</td>\n",
       "      <td>1.897000</td>\n",
       "      <td>1.822000</td>\n",
       "      <td>2.486000</td>\n",
       "      <td>NaN</td>\n",
       "      <td>0.316367</td>\n",
       "      <td>-0.288534</td>\n",
       "      <td>-0.220429</td>\n",
       "      <td>-0.245264</td>\n",
       "      <td>-0.298781</td>\n",
       "      <td>-0.089695</td>\n",
       "      <td>-0.154464</td>\n",
       "      <td>-0.019509</td>\n",
       "      <td>NaN</td>\n",
       "    </tr>\n",
       "    <tr>\n",
       "      <th>2020-10-21</th>\n",
       "      <td>9.0</td>\n",
       "      <td>2.120159</td>\n",
       "      <td>1.614697</td>\n",
       "      <td>1.092354</td>\n",
       "      <td>0.390268</td>\n",
       "      <td>2.077458</td>\n",
       "      <td>2.006951</td>\n",
       "      <td>1.811321</td>\n",
       "      <td>2.602781</td>\n",
       "      <td>NaN</td>\n",
       "      <td>0.293284</td>\n",
       "      <td>-0.260269</td>\n",
       "      <td>-0.232131</td>\n",
       "      <td>-0.308569</td>\n",
       "      <td>-0.281680</td>\n",
       "      <td>-0.036933</td>\n",
       "      <td>-0.159420</td>\n",
       "      <td>0.026550</td>\n",
       "      <td>NaN</td>\n",
       "    </tr>\n",
       "    <tr>\n",
       "      <th>2020-11-11</th>\n",
       "      <td>10.0</td>\n",
       "      <td>2.188060</td>\n",
       "      <td>1.789055</td>\n",
       "      <td>1.152239</td>\n",
       "      <td>0.451741</td>\n",
       "      <td>2.423881</td>\n",
       "      <td>2.064677</td>\n",
       "      <td>1.796020</td>\n",
       "      <td>2.674627</td>\n",
       "      <td>3.499502</td>\n",
       "      <td>0.334703</td>\n",
       "      <td>-0.180392</td>\n",
       "      <td>-0.190034</td>\n",
       "      <td>-0.199658</td>\n",
       "      <td>-0.161898</td>\n",
       "      <td>-0.009232</td>\n",
       "      <td>-0.166520</td>\n",
       "      <td>0.054886</td>\n",
       "      <td>0.000000</td>\n",
       "    </tr>\n",
       "    <tr>\n",
       "      <th>2020-11-28</th>\n",
       "      <td>11.0</td>\n",
       "      <td>2.011952</td>\n",
       "      <td>1.978088</td>\n",
       "      <td>1.179283</td>\n",
       "      <td>0.464143</td>\n",
       "      <td>2.647410</td>\n",
       "      <td>2.035857</td>\n",
       "      <td>2.008964</td>\n",
       "      <td>2.647410</td>\n",
       "      <td>3.660359</td>\n",
       "      <td>0.227279</td>\n",
       "      <td>-0.093791</td>\n",
       "      <td>-0.171024</td>\n",
       "      <td>-0.177686</td>\n",
       "      <td>-0.084609</td>\n",
       "      <td>-0.023062</td>\n",
       "      <td>-0.067699</td>\n",
       "      <td>0.044152</td>\n",
       "      <td>0.045965</td>\n",
       "    </tr>\n",
       "    <tr>\n",
       "      <th>2020-12-22</th>\n",
       "      <td>12.0</td>\n",
       "      <td>2.133733</td>\n",
       "      <td>1.996008</td>\n",
       "      <td>1.157685</td>\n",
       "      <td>0.467066</td>\n",
       "      <td>2.634731</td>\n",
       "      <td>2.168663</td>\n",
       "      <td>1.930140</td>\n",
       "      <td>2.690619</td>\n",
       "      <td>3.505988</td>\n",
       "      <td>0.301564</td>\n",
       "      <td>-0.085582</td>\n",
       "      <td>-0.186206</td>\n",
       "      <td>-0.172508</td>\n",
       "      <td>-0.088993</td>\n",
       "      <td>0.040667</td>\n",
       "      <td>-0.104279</td>\n",
       "      <td>0.061194</td>\n",
       "      <td>0.001853</td>\n",
       "    </tr>\n",
       "  </tbody>\n",
       "</table>\n",
       "</div>"
      ],
      "text/plain": [
       "            welle   co05_01   co06_01   co06_02   co06_03   co06_04   co06_05  \\\n",
       "wave_end                                                                        \n",
       "2020-05-05    1.0  1.639361  2.182817  1.422577  0.564436  2.892108  2.083916   \n",
       "2020-05-28    2.0  1.612935  1.900498  1.254726  0.735323  2.503483  2.010945   \n",
       "2020-06-17    3.0  1.617383  1.651349  1.199800  0.615385  2.144855  1.996004   \n",
       "2020-07-08    4.0  2.043000  1.475000  1.064000  0.488000  1.916000  1.864000   \n",
       "2020-07-30    5.0  2.285000  1.442000  1.057000  0.344000  1.871000  1.811000   \n",
       "2020-08-22    6.0  2.093812  1.503992  1.081836  0.394212  1.885230  1.860279   \n",
       "2020-09-14    7.0  2.126747  1.421158  1.055888  0.408184  1.867265  1.892216   \n",
       "2020-09-29    8.0  2.158000  1.553000  1.109000  0.426000  2.028000  1.897000   \n",
       "2020-10-21    9.0  2.120159  1.614697  1.092354  0.390268  2.077458  2.006951   \n",
       "2020-11-11   10.0  2.188060  1.789055  1.152239  0.451741  2.423881  2.064677   \n",
       "2020-11-28   11.0  2.011952  1.978088  1.179283  0.464143  2.647410  2.035857   \n",
       "2020-12-22   12.0  2.133733  1.996008  1.157685  0.467066  2.634731  2.168663   \n",
       "\n",
       "             co06_06   co08_01   co19_01  baseline_diff_05  \\\n",
       "wave_end                                                     \n",
       "2020-05-05  2.154845  2.535465       NaN          0.000000   \n",
       "2020-05-28  1.963184  2.532338       NaN         -0.016119   \n",
       "2020-06-17  1.879121  2.480519       NaN         -0.013406   \n",
       "2020-07-08  1.628000  2.410000       NaN          0.246218   \n",
       "2020-07-30  1.709000  2.358000       NaN          0.393836   \n",
       "2020-08-22  1.838323  2.337325       NaN          0.277213   \n",
       "2020-09-14  1.811377  2.393214       NaN          0.297302   \n",
       "2020-09-29  1.822000  2.486000       NaN          0.316367   \n",
       "2020-10-21  1.811321  2.602781       NaN          0.293284   \n",
       "2020-11-11  1.796020  2.674627  3.499502          0.334703   \n",
       "2020-11-28  2.008964  2.647410  3.660359          0.227279   \n",
       "2020-12-22  1.930140  2.690619  3.505988          0.301564   \n",
       "\n",
       "            baseline_diff_06_1  baseline_diff_06_2  baseline_diff_06_3  \\\n",
       "wave_end                                                                 \n",
       "2020-05-05            0.000000            0.000000            0.000000   \n",
       "2020-05-28           -0.129337           -0.117991            0.302759   \n",
       "2020-06-17           -0.243478           -0.156601            0.090265   \n",
       "2020-07-08           -0.324268           -0.252062           -0.135419   \n",
       "2020-07-30           -0.339386           -0.256982           -0.390542   \n",
       "2020-08-22           -0.310986           -0.239524           -0.301583   \n",
       "2020-09-14           -0.348934           -0.257764           -0.276829   \n",
       "2020-09-29           -0.288534           -0.220429           -0.245264   \n",
       "2020-10-21           -0.260269           -0.232131           -0.308569   \n",
       "2020-11-11           -0.180392           -0.190034           -0.199658   \n",
       "2020-11-28           -0.093791           -0.171024           -0.177686   \n",
       "2020-12-22           -0.085582           -0.186206           -0.172508   \n",
       "\n",
       "            baseline_diff_06_4  baseline_diff_06_5  baseline_diff_06_6  \\\n",
       "wave_end                                                                 \n",
       "2020-05-05            0.000000            0.000000            0.000000   \n",
       "2020-05-28           -0.134374           -0.035016           -0.088944   \n",
       "2020-06-17           -0.258377           -0.042186           -0.127955   \n",
       "2020-07-08           -0.337507           -0.105530           -0.244493   \n",
       "2020-07-30           -0.353067           -0.130963           -0.206904   \n",
       "2020-08-22           -0.348147           -0.107316           -0.146888   \n",
       "2020-09-14           -0.354358           -0.091991           -0.159393   \n",
       "2020-09-29           -0.298781           -0.089695           -0.154464   \n",
       "2020-10-21           -0.281680           -0.036933           -0.159420   \n",
       "2020-11-11           -0.161898           -0.009232           -0.166520   \n",
       "2020-11-28           -0.084609           -0.023062           -0.067699   \n",
       "2020-12-22           -0.088993            0.040667           -0.104279   \n",
       "\n",
       "            baseline_diff_08  baseline_diff_19  \n",
       "wave_end                                        \n",
       "2020-05-05          0.000000               NaN  \n",
       "2020-05-28         -0.001233               NaN  \n",
       "2020-06-17         -0.021671               NaN  \n",
       "2020-07-08         -0.049484               NaN  \n",
       "2020-07-30         -0.069993               NaN  \n",
       "2020-08-22         -0.078147               NaN  \n",
       "2020-09-14         -0.056104               NaN  \n",
       "2020-09-29         -0.019509               NaN  \n",
       "2020-10-21          0.026550               NaN  \n",
       "2020-11-11          0.054886          0.000000  \n",
       "2020-11-28          0.044152          0.045965  \n",
       "2020-12-22          0.061194          0.001853  "
      ]
     },
     "execution_count": 18,
     "metadata": {},
     "output_type": "execute_result"
    }
   ],
   "source": [
    "survey_grouped = survey_sub.groupby('welle').resample('1d').mean()\n",
    "survey_grouped.index = survey_grouped.index.droplevel('welle')\n",
    "survey_grouped['baseline_diff_05'] = (survey_grouped['co05_01'] - survey_grouped['co05_01'][0])/survey_grouped['co05_01'][0]\n",
    "survey_grouped['baseline_diff_06_1'] = (survey_grouped['co06_01'] - survey_grouped['co06_01'][0])/survey_grouped['co06_01'][0]\n",
    "survey_grouped['baseline_diff_06_2'] = (survey_grouped['co06_02'] - survey_grouped['co06_02'][0])/survey_grouped['co06_02'][0]\n",
    "survey_grouped['baseline_diff_06_3'] = (survey_grouped['co06_03'] - survey_grouped['co06_03'][0])/survey_grouped['co06_03'][0]\n",
    "survey_grouped['baseline_diff_06_4'] = (survey_grouped['co06_04'] - survey_grouped['co06_04'][0])/survey_grouped['co06_04'][0]\n",
    "survey_grouped['baseline_diff_06_5'] = (survey_grouped['co06_05'] - survey_grouped['co06_05'][0])/survey_grouped['co06_05'][0]\n",
    "survey_grouped['baseline_diff_06_6'] = (survey_grouped['co06_06'] - survey_grouped['co06_06'][0])/survey_grouped['co06_06'][0]\n",
    "survey_grouped['baseline_diff_08'] = (survey_grouped['co08_01'] - survey_grouped['co08_01'][0])/survey_grouped['co08_01'][0]\n",
    "survey_grouped['baseline_diff_19'] = (survey_grouped['co19_01'] - survey_grouped['co19_01'][9])/survey_grouped['co19_01'][9]\n",
    "survey_grouped"
   ]
  },
  {
   "cell_type": "code",
   "execution_count": 19,
   "metadata": {
    "pycharm": {
     "is_executing": true
    }
   },
   "outputs": [
    {
     "data": {
      "text/plain": [
       "<AxesSubplot:xlabel='wave_end'>"
      ]
     },
     "execution_count": 19,
     "metadata": {},
     "output_type": "execute_result"
    },
    {
     "data": {
      "image/png": "[encoded data removed]",
      "text/plain": [
       "<Figure size 432x288 with 1 Axes>"
      ]
     },
     "metadata": {
      "needs_background": "light"
     },
     "output_type": "display_data"
    }
   ],
   "source": [
    "survey_grouped['baseline_diff_05'].plot()"
   ]
  },
  {
   "cell_type": "markdown",
   "metadata": {},
   "source": [
    "### Plots"
   ]
  },
  {
   "cell_type": "code",
   "execution_count": 124,
   "metadata": {
    "pycharm": {
     "is_executing": true
    },
    "scrolled": true
   },
   "outputs": [
    {
     "name": "stderr",
     "output_type": "stream",
     "text": [
      "<ipython-input-124-c43cd93ae3ed>:24: UserWarning: FixedFormatter should only be used together with FixedLocator\n",
      "  ax2.set_yticklabels(lables)\n"
     ]
    },
    {
     "data": {
      "text/plain": [
       "<matplotlib.legend.Legend at 0x2c9a7091be0>"
      ]
     },
     "execution_count": 124,
     "metadata": {},
     "output_type": "execute_result"
    },
    {
     "data": {
      "image/png": "[encoded data removed]",
      "text/plain": [
       "<Figure size 1440x720 with 2 Axes>"
      ]
     },
     "metadata": {},
     "output_type": "display_data"
    }
   ],
   "source": [
    "fig, ax = plt.subplots(figsize=(20,10))\n",
    "#ax.plot(postings.resample('1d').sum().loc[start:end, 'anger'], linestyle='-', linewidth=0.5, label='Standardforum: Anger from livetickers', color='black')\n",
    "#ax.plot(postings_summer_gap.resample('1d').sum().loc[start:end, 'anger'], linestyle='-', linewidth=0.5, label='Standardforum: Anger from articles', color='red')\n",
    "ax.plot(combined.loc[start:end, 'anger_total'], linestyle='-', linewidth=0.5, label='Standardforum livetickers & articles: LIWC Anger-count', color='black')\n",
    "\n",
    "ax.set_ylabel('Standardforum: LIWC Anger-count')\n",
    "\n",
    "ax.axvspan(pd.to_datetime(start_lockdown1), pd.to_datetime(end_lockdown1), color='red', alpha=0.05, label=\"Lockdowns\")\n",
    "ax.axvspan(pd.to_datetime(start_lockdown2), pd.to_datetime(end_lockdown2), color='red', alpha=0.05)\n",
    "ax.axvspan(pd.to_datetime(start_lockdown3), pd.to_datetime(end_lockdown3), color='red', alpha=0.05)\n",
    "\n",
    "ax.axvline(pd.to_datetime('2020-04-06'), linewidth=0.5, color='red', alpha=0.5)\n",
    "ax.text(x=pd.to_datetime('2020-04-06'), y=10, s=' Mandatory face-masks\\n in grocery stores', rotation=0)\n",
    "ax.axvline(pd.to_datetime('2020-11-02'), linewidth=0.5, color='red', alpha=0.5)\n",
    "ax.text(x=pd.to_datetime('2020-11-02'), y=10, s=' Terrorist attack in Vienna', rotation=0)\n",
    "\n",
    "ax2 = ax.twinx()\n",
    "ax2.set_ylim([-1,1])\n",
    "lables = [item.get_text() for item in ax2.get_yticklabels()]\n",
    "lables[1] = 'no'\n",
    "lables[len(lables)-2] = 'yes'\n",
    "lables[int(len(lables)/2)] = 'base\\nline'\n",
    "ax2.set_yticklabels(lables)\n",
    "ax2.plot(survey_grouped.index, survey_grouped['baseline_diff_05'],label=\"Survey: Should the actions be increased?\", linestyle='-', marker='o', linewidth=0.5, color='blue')\n",
    "ax2.plot(survey_grouped.index, survey_grouped['baseline_diff_06_1'],label=\"Survey: Do you feel restricted in your family life?\", linestyle='-', marker='o', linewidth=0.5)\n",
    "ax2.plot(survey_grouped.index, survey_grouped['baseline_diff_06_2'],label=\"Survey: Do you feel restricted in your work life?\", linestyle='-', marker='o', linewidth=0.5)\n",
    "ax2.plot(survey_grouped.index, survey_grouped['baseline_diff_06_3'],label=\"Survey: Do you feel restricted in your school/uni life?\", linestyle='-', marker='o', linewidth=0.5)\n",
    "ax2.plot(survey_grouped.index, survey_grouped['baseline_diff_06_4'],label=\"Survey: Do you feel restricted in your social life?\", linestyle='-', marker='o', linewidth=0.5)\n",
    "ax2.plot(survey_grouped.index, survey_grouped['baseline_diff_06_5'],label=\"Survey: Do you feel restricted in your cultural life?\", linestyle='-', marker='o', linewidth=0.5)\n",
    "ax2.plot(survey_grouped.index, survey_grouped['baseline_diff_06_6'],label=\"Survey: Do you feel restricted in your shopping experience?\", linestyle='-', marker='o', linewidth=0.5)\n",
    "ax2.plot(survey_grouped.index, survey_grouped['baseline_diff_08'],label=\"Survey: Do you feel angry in the last weeks?\", linestyle='-', marker='o', linewidth=0.5)\n",
    "ax2.plot(survey_grouped.index, survey_grouped['baseline_diff_19'],label=\"Survey: Has the government a good communication strategy?\", linestyle='-', marker='o', linewidth=0.5)\n",
    "\n",
    "ax2.tick_params(axis='y', labelcolor='gray')\n",
    "\n",
    "fig.autofmt_xdate()\n",
    "ax2.set_ylabel(\"Baseline difference\", color='gray')\n",
    "ax.set_title(\"Public sentiment during the first three lockdowns in Austria\")\n",
    "\n",
    "lines, labels = ax.get_legend_handles_labels()\n",
    "lines2, labels2 = ax2.get_legend_handles_labels()\n",
    "ax2.legend(lines + lines2, labels + labels2, loc=0)"
   ]
  },
  {
   "cell_type": "code",
   "execution_count": null,
   "metadata": {
    "pycharm": {
     "is_executing": true
    }
   },
   "outputs": [],
   "source": []
  }
 ],
 "metadata": {
  "kernelspec": {
   "display_name": "Python 3",
   "language": "python",
   "name": "python3"
  },
  "language_info": {
   "codemirror_mode": {
    "name": "ipython",
    "version": 3
   },
   "file_extension": ".py",
   "mimetype": "text/x-python",
   "name": "python",
   "nbconvert_exporter": "python",
   "pygments_lexer": "ipython3",
   "version": "3.8.6"
  }
 },
 "nbformat": 4,
 "nbformat_minor": 1
}
